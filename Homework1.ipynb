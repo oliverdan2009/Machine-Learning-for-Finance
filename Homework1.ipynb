{
 "cells": [
  {
   "cell_type": "code",
   "execution_count": null,
   "metadata": {},
   "outputs": [],
   "source": []
  },
  {
   "cell_type": "markdown",
   "metadata": {
    "cell_style": "center",
    "id": "8-hQLQlfFh-X"
   },
   "source": [
    "<h1>\n",
    "<center>CFRM 421/521, Spring 2022</center>\n",
    "</h1>\n",
    "\n",
    "<h1>\n",
    "<center>Daniel Eduardo Oliver</center>\n",
    "</h1>\n",
    "\n",
    "<h1>\n",
    "<center>Homework 1</center>\n",
    "</h1>\n",
    "\n",
    "* **Due: Monday, April 18, 2022, 11:59 PM**\n",
    "\n",
    "\n",
    "* Total marks: 46\n",
    "\n",
    "\n",
    "* Late submissions are allowed, but a 20% penalty per day applies. Your last submission is considered for calculating the penalty.\n",
    "\n",
    "\n",
    "*  Use this Jupyter notebook as a template for your solutions. **Your solution must be submitted as one Jupyter notebook.** The notebook must be already run, that is, make sure that you have run all your code, save the notebook, and then when you reopen the notebook, checked that all output appears as expected. You are allowed to use code from the textbook, textbook website, or lecture notes."
   ]
  },
  {
   "cell_type": "markdown",
   "metadata": {
    "id": "QOOEDfkwFh-b"
   },
   "source": [
    "# 1. Preprocessing housing data [7 marks]\n",
    "\n",
    "Hint: Reading Chapter 2 of the textbook and the accompanying [Jupyter notebook](https://github.com/ageron/handson-ml2/blob/master/02_end_to_end_machine_learning_project.ipynb) on the textbook website may help with this question.\n",
    "\n",
    "Consider the California housing data from Chapter 2 of the textbook. The following code fetches the data."
   ]
  },
  {
   "cell_type": "code",
   "execution_count": 10,
   "metadata": {
    "colab": {
     "base_uri": "https://localhost:8080/",
     "height": 131
    },
    "id": "WHkjNjbXFh-c",
    "outputId": "d5defc89-6130-4b04-caaf-e3384fa228e6"
   },
   "outputs": [],
   "source": [
    "import os\n",
    "import tarfile\n",
    "from six.moves import urllib\n",
    "import numpy as np\n",
    "import pandas as pd\n",
    "from sklearn.model_selection import StratifiedShuffleSplit\n",
    "\n",
    "HOUSING_PATH = os.path.join(\"datasets\", \"housing\")\n",
    "\n",
    "def fetch_housing_data(housing_url, housing_path=HOUSING_PATH):\n",
    "    if not os.path.isdir(housing_path):\n",
    "        os.makedirs(housing_path)\n",
    "    tgz_path = os.path.join(housing_path, \"housing.tgz\")\n",
    "    urllib.request.urlretrieve(housing_url, tgz_path)\n",
    "    housing_tgz = tarfile.open(tgz_path)\n",
    "    housing_tgz.extractall(path=housing_path)\n",
    "    housing_tgz.close()\n",
    "\n",
    "def load_housing_data(housing_path=HOUSING_PATH):\n",
    "    csv_path = os.path.join(housing_path, \"housing.csv\")\n",
    "    return pd.read_csv(csv_path)\n",
    "\n",
    "HOUSING_URL = (\"https://raw.githubusercontent.com/ageron/\"+\n",
    "               \"handson-ml2/master/datasets/housing/housing.tgz\")\n",
    "fetch_housing_data(HOUSING_URL)\n",
    "data = load_housing_data()\n",
    "\n"
   ]
  },
  {
   "cell_type": "markdown",
   "metadata": {
    "id": "5mVtXZ8UFh-d"
   },
   "source": [
    "Next, we create stratified test and training sets based on different income categories."
   ]
  },
  {
   "cell_type": "code",
   "execution_count": 11,
   "metadata": {
    "id": "uHHOs8zzFh-e"
   },
   "outputs": [],
   "source": [
    "data[\"income_cat\"] = np.ceil(data[\"median_income\"] / 1.5)\n",
    "data[\"income_cat\"].where(data[\"income_cat\"] < 5, 5.0, inplace=True)\n",
    "\n",
    "split = StratifiedShuffleSplit(n_splits=1, test_size=0.2, random_state=42)\n",
    "for train_index, test_index in split.split(data, data[\"income_cat\"]):\n",
    "    strat_train_set = data.loc[train_index]\n",
    "    strat_test_set = data.loc[test_index]\n",
    "    \n",
    "for set_ in (strat_train_set, strat_test_set):\n",
    "    set_.drop(\"income_cat\", axis=1, inplace=True)"
   ]
  },
  {
   "cell_type": "markdown",
   "metadata": {
    "id": "uneZXlLCFh-f"
   },
   "source": [
    "Let us separate the features (`X_raw`) and the response variable (`y`)."
   ]
  },
  {
   "cell_type": "code",
   "execution_count": 12,
   "metadata": {
    "colab": {
     "base_uri": "https://localhost:8080/"
    },
    "id": "_yp2M5StFh-f",
    "outputId": "3c4c7a9e-0a5d-48bc-8fe8-3d35c753b217"
   },
   "outputs": [],
   "source": [
    "X_raw = strat_train_set.drop(\"median_house_value\", axis=1)\n",
    "y = strat_train_set[\"median_house_value\"].copy()"
   ]
  },
  {
   "cell_type": "markdown",
   "metadata": {
    "id": "gP9HA-tDFh-g"
   },
   "source": [
    "## (a) Handling missing values [1 mark]\n",
    "\n",
    "Let us find out if there are any missing values in our features. As the code below indicates, out of 16512 observations, 158 have missing values. Further inspection shows that `total_bedrooms` has missing values (only a few missing values are shown below)."
   ]
  },
  {
   "cell_type": "code",
   "execution_count": 13,
   "metadata": {
    "colab": {
     "base_uri": "https://localhost:8080/"
    },
    "id": "pHUUHC5MFh-g",
    "outputId": "eff3cfec-0c38-4566-c7da-64547c4a5e30"
   },
   "outputs": [
    {
     "data": {
      "text/plain": [
       "(16512, 9)"
      ]
     },
     "execution_count": 13,
     "metadata": {},
     "output_type": "execute_result"
    }
   ],
   "source": [
    "X_raw.shape"
   ]
  },
  {
   "cell_type": "code",
   "execution_count": 14,
   "metadata": {
    "colab": {
     "base_uri": "https://localhost:8080/"
    },
    "id": "IMaRfKwEFh-h",
    "outputId": "74c43853-59ff-48f0-e6eb-21613c6f58c9"
   },
   "outputs": [
    {
     "data": {
      "text/plain": [
       "(158, 9)"
      ]
     },
     "execution_count": 14,
     "metadata": {},
     "output_type": "execute_result"
    }
   ],
   "source": [
    "X_raw[X_raw.isnull().any(axis=1)].shape"
   ]
  },
  {
   "cell_type": "code",
   "execution_count": 15,
   "metadata": {
    "colab": {
     "base_uri": "https://localhost:8080/",
     "height": 206
    },
    "id": "wCyIJFV4Fh-h",
    "outputId": "9f021412-4666-4ab5-c7f0-7ede916b8d88",
    "scrolled": true
   },
   "outputs": [
    {
     "data": {
      "text/html": [
       "<div>\n",
       "<style scoped>\n",
       "    .dataframe tbody tr th:only-of-type {\n",
       "        vertical-align: middle;\n",
       "    }\n",
       "\n",
       "    .dataframe tbody tr th {\n",
       "        vertical-align: top;\n",
       "    }\n",
       "\n",
       "    .dataframe thead th {\n",
       "        text-align: right;\n",
       "    }\n",
       "</style>\n",
       "<table border=\"1\" class=\"dataframe\">\n",
       "  <thead>\n",
       "    <tr style=\"text-align: right;\">\n",
       "      <th></th>\n",
       "      <th>longitude</th>\n",
       "      <th>latitude</th>\n",
       "      <th>housing_median_age</th>\n",
       "      <th>total_rooms</th>\n",
       "      <th>total_bedrooms</th>\n",
       "      <th>population</th>\n",
       "      <th>households</th>\n",
       "      <th>median_income</th>\n",
       "      <th>ocean_proximity</th>\n",
       "    </tr>\n",
       "  </thead>\n",
       "  <tbody>\n",
       "    <tr>\n",
       "      <th>4629</th>\n",
       "      <td>-118.30</td>\n",
       "      <td>34.07</td>\n",
       "      <td>18.0</td>\n",
       "      <td>3759.0</td>\n",
       "      <td>NaN</td>\n",
       "      <td>3296.0</td>\n",
       "      <td>1462.0</td>\n",
       "      <td>2.2708</td>\n",
       "      <td>&lt;1H OCEAN</td>\n",
       "    </tr>\n",
       "    <tr>\n",
       "      <th>6068</th>\n",
       "      <td>-117.86</td>\n",
       "      <td>34.01</td>\n",
       "      <td>16.0</td>\n",
       "      <td>4632.0</td>\n",
       "      <td>NaN</td>\n",
       "      <td>3038.0</td>\n",
       "      <td>727.0</td>\n",
       "      <td>5.1762</td>\n",
       "      <td>&lt;1H OCEAN</td>\n",
       "    </tr>\n",
       "    <tr>\n",
       "      <th>17923</th>\n",
       "      <td>-121.97</td>\n",
       "      <td>37.35</td>\n",
       "      <td>30.0</td>\n",
       "      <td>1955.0</td>\n",
       "      <td>NaN</td>\n",
       "      <td>999.0</td>\n",
       "      <td>386.0</td>\n",
       "      <td>4.6328</td>\n",
       "      <td>&lt;1H OCEAN</td>\n",
       "    </tr>\n",
       "    <tr>\n",
       "      <th>13656</th>\n",
       "      <td>-117.30</td>\n",
       "      <td>34.05</td>\n",
       "      <td>6.0</td>\n",
       "      <td>2155.0</td>\n",
       "      <td>NaN</td>\n",
       "      <td>1039.0</td>\n",
       "      <td>391.0</td>\n",
       "      <td>1.6675</td>\n",
       "      <td>INLAND</td>\n",
       "    </tr>\n",
       "    <tr>\n",
       "      <th>19252</th>\n",
       "      <td>-122.79</td>\n",
       "      <td>38.48</td>\n",
       "      <td>7.0</td>\n",
       "      <td>6837.0</td>\n",
       "      <td>NaN</td>\n",
       "      <td>3468.0</td>\n",
       "      <td>1405.0</td>\n",
       "      <td>3.1662</td>\n",
       "      <td>&lt;1H OCEAN</td>\n",
       "    </tr>\n",
       "  </tbody>\n",
       "</table>\n",
       "</div>"
      ],
      "text/plain": [
       "       longitude  latitude  housing_median_age  total_rooms  total_bedrooms  \\\n",
       "4629     -118.30     34.07                18.0       3759.0             NaN   \n",
       "6068     -117.86     34.01                16.0       4632.0             NaN   \n",
       "17923    -121.97     37.35                30.0       1955.0             NaN   \n",
       "13656    -117.30     34.05                 6.0       2155.0             NaN   \n",
       "19252    -122.79     38.48                 7.0       6837.0             NaN   \n",
       "\n",
       "       population  households  median_income ocean_proximity  \n",
       "4629       3296.0      1462.0         2.2708       <1H OCEAN  \n",
       "6068       3038.0       727.0         5.1762       <1H OCEAN  \n",
       "17923       999.0       386.0         4.6328       <1H OCEAN  \n",
       "13656      1039.0       391.0         1.6675          INLAND  \n",
       "19252      3468.0      1405.0         3.1662       <1H OCEAN  "
      ]
     },
     "execution_count": 15,
     "metadata": {},
     "output_type": "execute_result"
    }
   ],
   "source": [
    "X_raw[X_raw.isnull().any(axis=1)].head()"
   ]
  },
  {
   "cell_type": "markdown",
   "metadata": {
    "id": "MisOQ4z-Fh-i"
   },
   "source": [
    "**Task:** Read the subsection \"Data Cleaning\" in Chapter 2 of the textbook. Use the `sklearn.impute.SimpleImputer` class to fill the missing values in the numerical features (everything except `ocean_proximity`) with the median of the corresponding feature.\n"
   ]
  },
  {
   "cell_type": "markdown",
   "metadata": {
    "id": "IDtqk5AkFh-i"
   },
   "source": [
    "**[Add your solution here]**"
   ]
  },
  {
   "cell_type": "code",
   "execution_count": 16,
   "metadata": {
    "colab": {
     "base_uri": "https://localhost:8080/"
    },
    "id": "OQgh3XqRJpIL",
    "outputId": "42f63a65-fb3c-4675-9da4-0e34bb4e8ca0"
   },
   "outputs": [
    {
     "data": {
      "text/plain": [
       "(0, 8)"
      ]
     },
     "execution_count": 16,
     "metadata": {},
     "output_type": "execute_result"
    }
   ],
   "source": [
    "from sklearn.impute import SimpleImputer\n",
    "\n",
    "imputer = SimpleImputer(strategy=\"median\")\n",
    "housing_num = X_raw.drop(\"ocean_proximity\", axis=1) #creates a copy of all the numerical features (drops the text feature)\n",
    "imputer.fit(housing_num) \n",
    "\n",
    "imputer.statistics_\n",
    "\n",
    "H = imputer.transform(housing_num)\n",
    "\n",
    "housing_tr = pd.DataFrame(H, columns=housing_num.columns,index=housing_num.index)\n",
    "housing_tr[housing_tr.isnull().any(axis=1)].shape\n"
   ]
  },
  {
   "cell_type": "markdown",
   "metadata": {
    "id": "ukqyHNZwFh-i"
   },
   "source": [
    "## (b) Handling categorical features  [2 marks]\n",
    "ML algorithms generally work with numerical values. So, we need to convert categorical features to numerical values. One way is to simply map each category to an integer. Another alternative is to use **one-hot encoding**."
   ]
  },
  {
   "cell_type": "markdown",
   "metadata": {
    "id": "jQ98AgkOFh-i"
   },
   "source": [
    "**Task:** Read subsection \"Handling Text and Categorical Attributes\" in Chapter 2 of the textbook. Then use the `sklearn.preprocessing.OrdinalEncoder` class and the `sklearn.preprocessing.OneHotEncoder` class to transform the `ocean_proximity` feature to integers and one-hot vectors. Explain why it is more appropriate to use one-hot encoding."
   ]
  },
  {
   "cell_type": "markdown",
   "metadata": {
    "id": "dOcOAFXUFh-j"
   },
   "source": [
    "**[Add your solution here]**"
   ]
  },
  {
   "cell_type": "code",
   "execution_count": 17,
   "metadata": {
    "colab": {
     "base_uri": "https://localhost:8080/"
    },
    "id": "Kwct7VmdFh-j",
    "outputId": "619a1dd4-664b-46c5-c160-d9cf212853ef"
   },
   "outputs": [
    {
     "name": "stdout",
     "output_type": "stream",
     "text": [
      "The problem with ordinal encoding is that ML algo's assume that two nearby values are more similar than two distant values. One-Hot encoding is more approriate because it assigns a binary attribute to each category andwhich forms an 'identity vector' in which most of the values are zero and there is only one 1 per vector, which represents the category that the instance belongs to. This solves any ordinal confusion in the ML algo.\n"
     ]
    }
   ],
   "source": [
    "#page 66\n",
    "from sklearn.preprocessing import OrdinalEncoder\n",
    "housing_cat = X_raw[[\"ocean_proximity\"]]\n",
    "housing_cat.head(10)\n",
    "\n",
    "#here we convert the categorical text to ordinal numbers\n",
    "ordinal_encoder = OrdinalEncoder()\n",
    "housing_cat_encoded = ordinal_encoder.fit_transform(housing_cat)\n",
    "housing_cat_encoded[:10]\n",
    "\n",
    "#the order of the categories is the following, \n",
    "ordinal_encoder.categories_\n",
    "\n",
    "#pg 67\n",
    "#here we do One Hot Encoding\n",
    "from sklearn.preprocessing import OneHotEncoder\n",
    "cat_encoder = OneHotEncoder()\n",
    "housing_cat_1hot = cat_encoder.fit_transform(housing_cat)\n",
    "housing_cat_1hot #our onehotencoding is in a SciPy Sparse Matrix, since most values will be zero unless they are a 1 (bc they belong to one of the categories). Each instance has a category that they are a part of.\n",
    "\n",
    "#here are the onehot encoding categories.\n",
    "cat_encoder.categories_\n",
    "\n",
    "print(\"The problem with ordinal encoding is that ML algo's assume that two nearby values are more similar than two distant values. One-Hot encoding is more approriate because it assigns a binary attribute to each category andwhich forms an 'identity vector' in which most of the values are zero and there is only one 1 per vector, which represents the category that the instance belongs to. This solves any ordinal confusion in the ML algo.\")"
   ]
  },
  {
   "cell_type": "markdown",
   "metadata": {
    "id": "yQZ6ZQylFh-j"
   },
   "source": [
    "## (c) Feature scaling [2 marks]\n",
    "\n",
    "Many ML algorithms do not perform well if the features have different scales (some very small, and others very large). In such scenarios, one should transform the features so that they have similar range of values. There are two common ways to achieve this. In **min-max** scaling, we subtract the feature from its minimum value and then divide by its range (i.e. maximum value minus minimum value) so that the scaled values are between 0 and 1. In **standardization**, we subtract the values from the average and divide by the standard deviation, so that the transformed values has mean 0 and variance 1."
   ]
  },
  {
   "cell_type": "markdown",
   "metadata": {
    "id": "raxJhz4aFh-j"
   },
   "source": [
    "**Task:** Read the subsection \"Feature Scaling\" in Chapter 2 of the textbook. Use the `sklearn.preprocessing.MinMaxScaler` class and `sklearn.preprocessing.StandardScaler` class to scale the numerical features using min-max scaling and standardization.\n"
   ]
  },
  {
   "cell_type": "markdown",
   "metadata": {
    "id": "of8n1JPYFh-k"
   },
   "source": [
    "**[Add your solution here]**"
   ]
  },
  {
   "cell_type": "code",
   "execution_count": 18,
   "metadata": {
    "id": "ShD-tG_mFh-k"
   },
   "outputs": [],
   "source": [
    "#pg 69\n",
    "#Min_max scaling\n",
    "from sklearn.preprocessing import MinMaxScaler\n",
    "min_max = MinMaxScaler()\n",
    "\n",
    "housing_num_mm = min_max.fit_transform(housing_num)\n",
    "\n",
    "#pg 69\n",
    "#Standardization\n",
    "from sklearn.preprocessing import StandardScaler\n",
    "standard = StandardScaler()\n",
    "\n",
    "housing_num_ss = standard.fit_transform(housing_num)"
   ]
  },
  {
   "cell_type": "markdown",
   "metadata": {
    "id": "2Z-BDuiVFh-k"
   },
   "source": [
    "## (d) Transformation pipelines [2 marks]\n",
    "\n",
    "Usually, we have to perform several steps before the data is ready to be fed to an ML algorithm. Scikit-Learn's `Pipeline` class provides a systematic way of \"packaging\" such a sequence of transformations.\n",
    "\n",
    "**Task:** Read the subsection \"Transformation Pipelines\" in Chapter 2 of the textbook. Then, create one pipeline that applies the transformations on part (a), (b) (use one-hot encoding), and (c) (use standardization) to the \"raw\" features `X_raw`. Call your transformed data `X`."
   ]
  },
  {
   "cell_type": "markdown",
   "metadata": {
    "id": "hCEu3RaxFh-k"
   },
   "source": [
    "\n",
    "\n",
    "```\n",
    "`# This is formatted as code`\n",
    "```\n",
    "\n",
    "**[Add your solution here]**"
   ]
  },
  {
   "cell_type": "code",
   "execution_count": 19,
   "metadata": {
    "colab": {
     "base_uri": "https://localhost:8080/"
    },
    "id": "Gtvf8UDtFh-k",
    "outputId": "26ba6cb8-7c73-4b4f-99c4-3c4087e279d8"
   },
   "outputs": [],
   "source": [
    "#pg 70\n",
    "from sklearn.pipeline import Pipeline\n",
    "from sklearn.preprocessing import StandardScaler\n",
    "\n",
    "num_pipeline = Pipeline([\n",
    "                         ('imputer', SimpleImputer(strategy=\"median\")),\n",
    "                         ('std_scaler',StandardScaler()),\n",
    "])\n",
    "\n",
    "housing_num_tr = num_pipeline.fit_transform(housing_num) #we don't need this for the final product\n",
    "\n",
    "#We want to implement the pipeline transformation on both the numerical and categorical columns\n",
    "#pg 71\n",
    "\n",
    "from sklearn.compose import ColumnTransformer\n",
    "\n",
    "num_attribs = list(housing_num) #this is just the name of the numerical columns that we are feeding in\n",
    "cat_attribs = [\"ocean_proximity\"] #we just have to feed in the name of the categorical columns\n",
    "\n",
    "full_pipeline = ColumnTransformer([\n",
    "                                 (\"num\", num_pipeline, num_attribs),\n",
    "                                 (\"cat\", OneHotEncoder(), cat_attribs),\n",
    "])\n",
    "\n",
    "housing_prepared = full_pipeline.fit_transform(X_raw)"
   ]
  },
  {
   "cell_type": "markdown",
   "metadata": {
    "id": "jYeYjQceFh-l"
   },
   "source": [
    "# 2. Fine-tuning models [16 marks]\n",
    "\n",
    "Hint: Reading Chapter 2 of the textbook and the accompanying [Jupyter notebook](https://github.com/ageron/handson-ml2/blob/master/02_end_to_end_machine_learning_project.ipynb) on the textbook website may help with this question."
   ]
  },
  {
   "cell_type": "markdown",
   "metadata": {
    "id": "C_63Ek2xFh-l"
   },
   "source": [
    "## (a) Linear regression [2 marks]\n",
    "\n",
    "**Task:** Use the `sklearn.linear_model.LinearRegression` class to fit a linear regression to the training set in Question 1. Use the processed features `X` that you obtained in 1(d) as predictors and `y` (the median house values) as the response. Return fitted values of the response for the first 10 observations of the training set."
   ]
  },
  {
   "cell_type": "markdown",
   "metadata": {
    "id": "x2VYmiJGFh-l"
   },
   "source": [
    "**[Add your solution here]**"
   ]
  },
  {
   "cell_type": "code",
   "execution_count": 20,
   "metadata": {
    "colab": {
     "base_uri": "https://localhost:8080/"
    },
    "id": "IdrbdrLRFh-l",
    "outputId": "56aa2c8c-c815-4a3e-c223-644584e340d5"
   },
   "outputs": [
    {
     "name": "stdout",
     "output_type": "stream",
     "text": [
      "Predictions: [211574.39523833 321345.10513719 210947.519838    61921.01197837\n",
      " 192362.32961119 154821.86099031 426129.59146334 229666.3616775\n",
      " 141483.54356476  12084.19502002]\n",
      "Labels: [286600.0, 340600.0, 196900.0, 46300.0, 254500.0, 127900.0, 500001.0, 140200.0, 95000.0, 500001.0]\n"
     ]
    }
   ],
   "source": [
    "#pg 72\n",
    "from sklearn.linear_model import LinearRegression\n",
    "\n",
    "housing_labels = y #these are the median house values\n",
    "\n",
    "#trains a model (fits a model)\n",
    "lin_reg = LinearRegression()\n",
    "lin_reg.fit(housing_prepared, housing_labels)\n",
    "\n",
    "#return fitted values of the response for the first 10 observations of the training set\n",
    "some_data = X_raw.iloc[:10] #.iloc[] is used when there isn't a visible integer index in the pandas dataframe, so we use the IMPLIED (not visible) row numbers instead\n",
    "some_labels = housing_labels.iloc[:10]\n",
    "some_data_prepared = full_pipeline.transform(some_data)\n",
    "\n",
    "print(\"Predictions:\", lin_reg.predict(some_data_prepared))\n",
    "print(\"Labels:\", list(some_labels))"
   ]
  },
  {
   "cell_type": "markdown",
   "metadata": {
    "id": "2cUAm12sFh-l"
   },
   "source": [
    "## (b) RMSE and MAE  [2 marks]\n",
    "\n",
    "We can measure the out-of-sample performance with root mean square error (RMSE) and mean absolute error (MAE). \n",
    "\n",
    "**Task:** Use `mean_squared_error` and `mean_absolute_error` functions from `sklearn.metrics` to calculate the in-sample RMSE and MAE of the linear regression that you fit in part (a)."
   ]
  },
  {
   "cell_type": "markdown",
   "metadata": {
    "id": "2i8faNMMFh-l"
   },
   "source": [
    "**[Add your solution here]**"
   ]
  },
  {
   "cell_type": "code",
   "execution_count": 21,
   "metadata": {
    "colab": {
     "base_uri": "https://localhost:8080/"
    },
    "id": "qq1i4DyAFh-m",
    "outputId": "10fb4801-1057-4df2-8f8a-8bbdbcc1a18a"
   },
   "outputs": [
    {
     "name": "stdout",
     "output_type": "stream",
     "text": [
      "69050.98178244587\n",
      "49906.941422232885\n"
     ]
    }
   ],
   "source": [
    "#pg 72\n",
    "from sklearn.metrics import mean_squared_error, mean_absolute_error\n",
    "\n",
    "housing_predictions = lin_reg.predict(housing_prepared)\n",
    "lin_mse = mean_squared_error(housing_labels, housing_predictions)\n",
    "lin_rmse = np.sqrt(lin_mse)\n",
    "lin_mae = mean_absolute_error(housing_labels, housing_predictions)\n",
    "\n",
    "print(lin_rmse)\n",
    "print(lin_mae)"
   ]
  },
  {
   "cell_type": "markdown",
   "metadata": {
    "id": "R2qvUw3XFh-m"
   },
   "source": [
    "## (c) Cross validation  [3 marks]\n",
    "\n",
    "In part (b), we evaluated the in-sample performance of the linear regression model. To obtain out-of-sample performance, we use K-fold cross validation.\n",
    "\n",
    "**Task:** Use the `cross_val_score` function from `sklearn.model_selection` to perform 10-fold  cross validation on the linear regression from part (a) and return the values of **RMSE**. Return the 10 RMSE scores as well as their mean."
   ]
  },
  {
   "cell_type": "markdown",
   "metadata": {
    "id": "ahXGgaqKFh-m"
   },
   "source": [
    "**[Add your solution here]**"
   ]
  },
  {
   "cell_type": "code",
   "execution_count": 22,
   "metadata": {
    "colab": {
     "base_uri": "https://localhost:8080/"
    },
    "id": "_RihIoiwFh-m",
    "outputId": "d1ed5215-e6da-4c50-e0f8-50546dc6239c"
   },
   "outputs": [
    {
     "name": "stdout",
     "output_type": "stream",
     "text": [
      "Scores: [67450.42057782 67329.50264436 68361.84864912 74639.88837894\n",
      " 68314.56738182 71628.61410355 65361.14176205 68571.62738037\n",
      " 72476.18028894 68098.06828865]\n",
      "Mean: 69223.18594556303\n",
      "Standard deviation: 2657.268311277696\n"
     ]
    }
   ],
   "source": [
    "from sklearn.model_selection import cross_val_score\n",
    "#pg 73, we are going to take a step back and break up the training set into 10 folds, we will then train the model on 9 folds and run on the remaining one fold, we do this ten times with the different combinations of folds. \n",
    "#the result will be 10 evaluation scores\n",
    "#this returns the out-of-sample RMSE from the validation set. The target values in the validation set are necessary for finding the RMSE of our preditions.\n",
    "\n",
    "scores = cross_val_score(lin_reg, housing_prepared, housing_labels, scoring=\"neg_mean_squared_error\",cv=10)\n",
    "lin_rmse_scores = np.sqrt(-scores)\n",
    "\n",
    "def display_scores(scores):\n",
    "  print(\"Scores:\", scores)\n",
    "  print(\"Mean:\", scores.mean())\n",
    "  print(\"Standard deviation:\", scores.std())\n",
    "\n",
    "display_scores(lin_rmse_scores)\n",
    "\n",
    "#we need to have run this cross-validation on more than one validation set or we wouldn't have produced a standard deviation measure.\n"
   ]
  },
  {
   "cell_type": "markdown",
   "metadata": {
    "id": "vSZ6LMaCFh-m"
   },
   "source": [
    "## (d) Alternatives to linear regression [3 marks]\n",
    "Let us consider fitting two alternative models, namely, **decision trees** and **random forests**. These models will be discussed in future lectures. The following code fits a decision tree and obtains the fitted response for the first 10 observations."
   ]
  },
  {
   "cell_type": "code",
   "execution_count": 23,
   "metadata": {
    "colab": {
     "base_uri": "https://localhost:8080/"
    },
    "id": "mRty9zsGFh-m",
    "outputId": "10c6c018-e192-4841-ed0d-702fa6e2f9b9"
   },
   "outputs": [
    {
     "data": {
      "text/plain": [
       "DecisionTreeRegressor(random_state=42)"
      ]
     },
     "execution_count": 23,
     "metadata": {},
     "output_type": "execute_result"
    }
   ],
   "source": [
    "from sklearn.tree import DecisionTreeRegressor #page 73\n",
    "dt_reg = DecisionTreeRegressor(random_state=42)\n",
    "dt_reg.fit(housing_prepared,housing_labels)"
   ]
  },
  {
   "cell_type": "code",
   "execution_count": 24,
   "metadata": {
    "colab": {
     "base_uri": "https://localhost:8080/"
    },
    "id": "rKShLHqKFh-m",
    "outputId": "75baa3c9-8dbe-4e2c-8956-ae0e1f7911ab",
    "run_control": {
     "marked": true
    },
    "scrolled": true
   },
   "outputs": [
    {
     "data": {
      "text/plain": [
       "array([286600., 340600., 196900.,  46300., 254500., 127900., 500001.,\n",
       "       140200.,  95000., 500001.])"
      ]
     },
     "execution_count": 24,
     "metadata": {},
     "output_type": "execute_result"
    }
   ],
   "source": [
    "dt_reg.predict(housing_prepared[:10,]) #i didn't worry about grabbing raw data and reprocessing it like in Q2b"
   ]
  },
  {
   "cell_type": "markdown",
   "metadata": {
    "id": "MB66qcRtFh-n"
   },
   "source": [
    "The following code does the same for the random forest model."
   ]
  },
  {
   "cell_type": "code",
   "execution_count": 25,
   "metadata": {
    "colab": {
     "base_uri": "https://localhost:8080/"
    },
    "id": "_S-KzQ07Fh-n",
    "outputId": "23477f2f-81f4-4012-c993-76857e9e0165",
    "run_control": {
     "marked": true
    }
   },
   "outputs": [
    {
     "data": {
      "text/plain": [
       "RandomForestRegressor(max_depth=5, random_state=42)"
      ]
     },
     "execution_count": 25,
     "metadata": {},
     "output_type": "execute_result"
    }
   ],
   "source": [
    "from sklearn.ensemble import RandomForestRegressor #pg 75\n",
    "\n",
    "rf_reg = RandomForestRegressor(bootstrap=True, n_estimators=100, max_depth=5, random_state=42)\n",
    "rf_reg.fit(housing_prepared, housing_labels)"
   ]
  },
  {
   "cell_type": "code",
   "execution_count": 26,
   "metadata": {
    "colab": {
     "base_uri": "https://localhost:8080/"
    },
    "id": "QtB5rJP5Fh-n",
    "outputId": "1a8639bb-51c7-48b2-f514-10c6e9b3a748",
    "run_control": {
     "marked": true
    }
   },
   "outputs": [
    {
     "data": {
      "text/plain": [
       "array([197897.38186239, 312857.05480804, 170838.26502119,  78919.95143337,\n",
       "       213978.99963998, 127669.93984961, 454196.74104933, 204609.56439446,\n",
       "       138451.98867262, 153166.14428368])"
      ]
     },
     "execution_count": 26,
     "metadata": {},
     "output_type": "execute_result"
    }
   ],
   "source": [
    "rf_reg.predict(housing_prepared[:10,])\n"
   ]
  },
  {
   "cell_type": "markdown",
   "metadata": {
    "id": "DTsXrYAdFh-n"
   },
   "source": [
    "**Task:** Find the in-sample performance of the decision tree and the random forest using RMSE on the training set. Also, find the out-of-sample performance by 10-fold cross validation as you did in part (c). Which of the 3 models has the best in-sample performance? Which has the best out-of-sample performance?"
   ]
  },
  {
   "cell_type": "markdown",
   "metadata": {
    "id": "B8dIJ1Y9Fh-n"
   },
   "source": [
    "**[Add your solution here]**"
   ]
  },
  {
   "cell_type": "code",
   "execution_count": 27,
   "metadata": {
    "colab": {
     "base_uri": "https://localhost:8080/"
    },
    "id": "dbYd8udsFh-n",
    "outputId": "4d1d7bef-8a42-4d7a-fb7e-779a32199e4c"
   },
   "outputs": [
    {
     "name": "stdout",
     "output_type": "stream",
     "text": [
      "Decision Tree in-sample RMSE\n",
      "0.0\n",
      "\n",
      "Random forest in-sample RMSE\n",
      "66680.31411841711\n",
      "\n",
      "In the in-sample test, the decision tree model outperfrms the random forest, the decision tree model produced no error (it is overfit).\n",
      "\n",
      "Random forest has the best out of sample performance.\n",
      "Deicision Tree out-of-sample RMSE\n",
      "Scores: [66757.2013883  66708.05413959 71135.77592971 69317.58307062\n",
      " 68729.37098167 75649.34082791 67043.83260349 70251.84122452\n",
      " 69273.49135944 69161.37598811]\n",
      "Mean: 69402.78675133755\n",
      "Standard deviation: 2512.0648514114073\n",
      "\n",
      "Random forest out-of-sample RMSE\n",
      "Scores: [65700.45624157 65412.32803475 67106.0935323  68745.76431365\n",
      " 68377.99796777 72240.18920168 63778.47273911 67392.56263794\n",
      " 71018.43990131 69008.50914107]\n",
      "Mean: 67878.08137111469\n",
      "Standard deviation: 2441.945310174933\n",
      "\n",
      "Random forest has the better out-of-sample RMSE.\n"
     ]
    }
   ],
   "source": [
    "#pg 72\n",
    "from sklearn.metrics import mean_squared_error, mean_absolute_error\n",
    "\n",
    "housing_predictions_dt = dt_reg.predict(housing_prepared)\n",
    "housing_predictions_rf =rf_reg.predict(housing_prepared)\n",
    "\n",
    "dt_mse = mean_squared_error(housing_labels, housing_predictions_dt)\n",
    "dt_rmse = np.sqrt(dt_mse)\n",
    "\n",
    "rf_mse = mean_squared_error(housing_labels, housing_predictions_rf)\n",
    "rf_rmse = np.sqrt(rf_mse)\n",
    "\n",
    "print(\"Decision Tree in-sample RMSE\")\n",
    "print(dt_rmse)\n",
    "\n",
    "print(\"\\nRandom forest in-sample RMSE\")\n",
    "print(rf_rmse)\n",
    "\n",
    "print(\"\\nIn the in-sample test, the decision tree model outperfrms the random forest, the decision tree model produced no error (it is overfit).\")\n",
    "\n",
    "#now let's use k-fold cross-validation\n",
    "from sklearn.model_selection import cross_val_score\n",
    "#pg 73, we are going to take a step back and break up the training set into 10 folds, we will then train the model on 9 folds and run on the remaining one fold, we do this ten times with the different combinations of folds. \n",
    "#the result will be 10 evaluation scores\n",
    "#this returns the out-of-sample RMSE from the validation set. The target values in the validation set are necessary for finding the RMSE of our preditions.\n",
    "\n",
    "scores_dt = cross_val_score(dt_reg, housing_prepared, housing_labels, scoring=\"neg_mean_squared_error\",cv=10)\n",
    "dt_rmse_scores = np.sqrt(-scores_dt)\n",
    "\n",
    "scores_rf = cross_val_score(rf_reg, housing_prepared, housing_labels, scoring=\"neg_mean_squared_error\",cv=10)\n",
    "rf_rmse_scores = np.sqrt(-scores_rf)\n",
    "\n",
    "print(\"\\nRandom forest has the best out of sample performance.\")\n",
    "print(\"Deicision Tree out-of-sample RMSE\")\n",
    "display_scores(dt_rmse_scores)\n",
    "print(\"\\nRandom forest out-of-sample RMSE\")\n",
    "display_scores(rf_rmse_scores)\n",
    "\n",
    "print(\"\\nRandom forest has the better out-of-sample RMSE.\")\n"
   ]
  },
  {
   "cell_type": "code",
   "execution_count": null,
   "metadata": {},
   "outputs": [],
   "source": []
  },
  {
   "cell_type": "markdown",
   "metadata": {
    "id": "IYMqGivWFh-n"
   },
   "source": [
    "## (e) Choosing optimal values of hyperparameters using cross validation [4 marks]\n",
    "\n",
    "Most ML algorithms have **hyperparameters**. These hyperparameters control the learning process and should not be confused with the model parameters (which are the unknown values that are being estimated). For example, the random forest algorithm has 3 hyperparameters, namely `bootstrap`, `n_estimators`, and `max_depth`. To fine-tune a model, we should find good values of the hyperparameters based on out-of-sample performance.\n",
    "\n",
    "**Task:** Read the subsections \"Grid Search\" and \"Randomized Search\" in Chapter 2 of the textbook. Consider the random forest model with the argument `random_state=42`. Use the `sklearn.model_selection.GridSearchCV` class to choose the best hyperparameter values for `bootstrap` over the values `True`, `False`; `n_estimators` over the values 50, 100, 200; and `max_depth` over the values 5, 20, 40. Use 4-fold cross-validation with RMSE when searching for the hyperparameters.\n",
    "\n",
    "Next, use the `sklearn.model_selection.RandomizedSearchCV` class to perform a randomized search over the same ranges with 18 parameter settings sampled, that is `bootstrap` is `True` or `False` with equal probability, `n_estimators` is a uniform random integer between 50 and 200, `max_depth` is a uniform random integer between 5 and 40. `RandomizedSearchCV` must include the argument `random_state=42`.\n",
    "\n",
    "In both functions, you may use the argument `n_jobs=-1` to use all avaliable processor cores to speed up the calculation. Based on all of your results, what are the best hyperparameter values?"
   ]
  },
  {
   "cell_type": "markdown",
   "metadata": {
    "id": "ZRWtCc5GFh-o"
   },
   "source": [
    "**[Add your solution here]**"
   ]
  },
  {
   "cell_type": "code",
   "execution_count": 28,
   "metadata": {
    "id": "8E1SwNbzFh-o"
   },
   "outputs": [
    {
     "data": {
      "text/plain": [
       "GridSearchCV(cv=4, estimator=RandomForestRegressor(), n_jobs=-1,\n",
       "             param_grid=[{'bootstrap': [True, False], 'max_depth': [5, 20, 40],\n",
       "                          'n_estimators': [50, 100, 200]}],\n",
       "             return_train_score=True, scoring='neg_root_mean_squared_error')"
      ]
     },
     "execution_count": 28,
     "metadata": {},
     "output_type": "execute_result"
    }
   ],
   "source": [
    "from sklearn.model_selection import GridSearchCV\n",
    "#pg 76\n",
    "\n",
    "param_grid = [\n",
    "              {'bootstrap':[True,False], 'n_estimators':[50,100,200],'max_depth':[5,20,40]}\n",
    "]\n",
    "\n",
    "forest_reg = RandomForestRegressor()\n",
    "\n",
    "grid_search=GridSearchCV(forest_reg,param_grid,cv=4,\n",
    "                         scoring='neg_root_mean_squared_error',\n",
    "                         return_train_score=True, n_jobs=-1)\n",
    "\n",
    "grid_search.fit(housing_prepared,housing_labels ) #this does a cross-validation grid search"
   ]
  },
  {
   "cell_type": "code",
   "execution_count": null,
   "metadata": {
    "colab": {
     "base_uri": "https://localhost:8080/"
    },
    "id": "3r8lD5NVNOmp",
    "outputId": "db43cbbf-eb18-49b4-88a1-9685b05645b5"
   },
   "outputs": [],
   "source": []
  },
  {
   "cell_type": "code",
   "execution_count": 29,
   "metadata": {
    "colab": {
     "base_uri": "https://localhost:8080/"
    },
    "id": "UIvK7FO3Imu-",
    "outputId": "cde400df-bf21-4b47-edcb-9063d4e41e65"
   },
   "outputs": [
    {
     "data": {
      "text/plain": [
       "RandomizedSearchCV(cv=4, estimator=RandomForestRegressor(random_state=42),\n",
       "                   n_iter=18, n_jobs=-1,\n",
       "                   param_distributions={'bootstrap': [True, False],\n",
       "                                        'max_depth': <scipy.stats._distn_infrastructure.rv_frozen object at 0x000001727B2D3580>,\n",
       "                                        'n_estimators': <scipy.stats._distn_infrastructure.rv_frozen object at 0x000001727B2EA280>},\n",
       "                   random_state=42, scoring='neg_root_mean_squared_error')"
      ]
     },
     "execution_count": 29,
     "metadata": {},
     "output_type": "execute_result"
    }
   ],
   "source": [
    "from sklearn.model_selection import RandomizedSearchCV\n",
    "from scipy.stats import randint\n",
    "\n",
    "param_distribs = {\n",
    "        'bootstrap': [True,False],\n",
    "        'n_estimators': randint(low=50, high=200),\n",
    "        'max_depth': randint(low=5, high=40),\n",
    "    }\n",
    "\n",
    "forest_reg = RandomForestRegressor(random_state=42)\n",
    "rnd_search = RandomizedSearchCV(forest_reg, param_distributions=param_distribs,\n",
    "                                n_iter=18, cv=4, scoring='neg_root_mean_squared_error', random_state=42,n_jobs=-1)\n",
    "rnd_search.fit(housing_prepared, housing_labels)\n"
   ]
  },
  {
   "cell_type": "code",
   "execution_count": null,
   "metadata": {
    "colab": {
     "base_uri": "https://localhost:8080/"
    },
    "id": "tHTSDpp1KoBO",
    "outputId": "d07b4c27-903f-4743-bd98-ad8be394dbb8"
   },
   "outputs": [],
   "source": []
  },
  {
   "cell_type": "code",
   "execution_count": 30,
   "metadata": {},
   "outputs": [
    {
     "name": "stdout",
     "output_type": "stream",
     "text": [
      "Grid Search Scores\n",
      "260.38995461850493 {'bootstrap': True, 'max_depth': 5, 'n_estimators': 50}\n",
      "260.13324239943785 {'bootstrap': True, 'max_depth': 5, 'n_estimators': 100}\n",
      "260.19689434425254 {'bootstrap': True, 'max_depth': 5, 'n_estimators': 200}\n",
      "224.5704150393133 {'bootstrap': True, 'max_depth': 20, 'n_estimators': 50}\n",
      "223.85051993560836 {'bootstrap': True, 'max_depth': 20, 'n_estimators': 100}\n",
      "223.73162065954375 {'bootstrap': True, 'max_depth': 20, 'n_estimators': 200}\n",
      "224.28462998806293 {'bootstrap': True, 'max_depth': 40, 'n_estimators': 50}\n",
      "224.03930688673495 {'bootstrap': True, 'max_depth': 40, 'n_estimators': 100}\n",
      "223.66041863230262 {'bootstrap': True, 'max_depth': 40, 'n_estimators': 200}\n",
      "266.0834667105091 {'bootstrap': False, 'max_depth': 5, 'n_estimators': 50}\n",
      "266.0834667105091 {'bootstrap': False, 'max_depth': 5, 'n_estimators': 100}\n",
      "266.083171303413 {'bootstrap': False, 'max_depth': 5, 'n_estimators': 200}\n",
      "260.1030472799947 {'bootstrap': False, 'max_depth': 20, 'n_estimators': 50}\n",
      "259.9265042115596 {'bootstrap': False, 'max_depth': 20, 'n_estimators': 100}\n",
      "259.95514111695206 {'bootstrap': False, 'max_depth': 20, 'n_estimators': 200}\n",
      "260.7073144307211 {'bootstrap': False, 'max_depth': 40, 'n_estimators': 50}\n",
      "260.63304900381553 {'bootstrap': False, 'max_depth': 40, 'n_estimators': 100}\n",
      "260.6633858644996 {'bootstrap': False, 'max_depth': 40, 'n_estimators': 200}\n",
      "\n",
      "The best average RMSE score with Grid Search is 223.3724 with the following best hyperparameter values:\n",
      "\n",
      "Random Search Scores\n",
      "223.72329220265516 {'bootstrap': True, 'max_depth': 33, 'n_estimators': 64}\n",
      "228.2540898535521 {'bootstrap': True, 'max_depth': 12, 'n_estimators': 70}\n",
      "223.60594233544762 {'bootstrap': True, 'max_depth': 23, 'n_estimators': 124}\n",
      "223.52231978758118 {'bootstrap': True, 'max_depth': 28, 'n_estimators': 166}\n",
      "260.6807505370241 {'bootstrap': False, 'max_depth': 28, 'n_estimators': 180}\n",
      "261.1995302067055 {'bootstrap': False, 'max_depth': 6, 'n_estimators': 137}\n",
      "260.66906617403845 {'bootstrap': False, 'max_depth': 34, 'n_estimators': 87}\n",
      "260.6509899827269 {'bootstrap': False, 'max_depth': 25, 'n_estimators': 107}\n",
      "260.6378627050498 {'bootstrap': False, 'max_depth': 29, 'n_estimators': 98}\n",
      "223.78243817549958 {'bootstrap': True, 'max_depth': 32, 'n_estimators': 64}\n",
      "256.52568834036794 {'bootstrap': False, 'max_depth': 7, 'n_estimators': 100}\n",
      "223.54878874118867 {'bootstrap': True, 'max_depth': 25, 'n_estimators': 122}\n",
      "223.51713745491202 {'bootstrap': True, 'max_depth': 22, 'n_estimators': 181}\n",
      "224.10533803101188 {'bootstrap': True, 'max_depth': 18, 'n_estimators': 58}\n",
      "261.20257839310085 {'bootstrap': False, 'max_depth': 6, 'n_estimators': 133}\n",
      "251.40707805955682 {'bootstrap': False, 'max_depth': 11, 'n_estimators': 57}\n",
      "223.45380003197323 {'bootstrap': True, 'max_depth': 39, 'n_estimators': 130}\n",
      "253.85949324841673 {'bootstrap': False, 'max_depth': 8, 'n_estimators': 51}\n",
      "\n",
      "The best average RMSE score with Random Search is 223.4538 with the following best hyperparameter values:\n"
     ]
    },
    {
     "data": {
      "text/plain": [
       "{'bootstrap': True, 'max_depth': 39, 'n_estimators': 130}"
      ]
     },
     "execution_count": 30,
     "metadata": {},
     "output_type": "execute_result"
    }
   ],
   "source": [
    "print(\"Grid Search Scores\") #pg 77\n",
    "gcvres = grid_search.cv_results_\n",
    "for mean_score, params in zip(gcvres[\"mean_test_score\"], gcvres[\"params\"]):\n",
    "    print(np.sqrt(-mean_score),params)\n",
    "\n",
    "print(\"\\nThe best average RMSE score with Grid Search is 223.3724 with the following best hyperparameter values:\")\n",
    "grid_search.best_params_\n",
    "\n",
    "print(\"\\nRandom Search Scores\") #pg 77\n",
    "rcvres = rnd_search.cv_results_\n",
    "for mean_score, params in zip(rcvres[\"mean_test_score\"], rcvres[\"params\"]):\n",
    "    print(np.sqrt(-mean_score),params)\n",
    "\n",
    "print(\"\\nThe best average RMSE score with Random Search is 223.4538 with the following best hyperparameter values:\")\n",
    "rnd_search.best_params_\n",
    "#pg 76"
   ]
  },
  {
   "cell_type": "markdown",
   "metadata": {
    "id": "JBgz0skaFh-o"
   },
   "source": [
    "## (f) Evaluating your final model using the test set [2 marks]\n",
    "\n",
    "The last step of a ML project is to evaluate your (fine-tuned) model using the test set. The goal of this step is to estimate the out-of-sample performance of your trained model on new data. **Be careful not to train your model using the test set.** Do not use `.fit()` or `.fit_tranform()` of your estimators or pipelines. Also, **do not fine tune your hyperparameters after finding out the performance of a model on the test set as that would be data snooping.**\n",
    "\n",
    "**Task:** Using the test set, find the RMSE of your best model in part (e)."
   ]
  },
  {
   "cell_type": "markdown",
   "metadata": {
    "id": "4WgQM8koFh-o"
   },
   "source": [
    "**[Add your solution here]**"
   ]
  },
  {
   "cell_type": "code",
   "execution_count": 22,
   "metadata": {
    "id": "_7ZXK5VZFh-o"
   },
   "outputs": [],
   "source": [
    "#use the grid_search hyperparameters\n",
    "final_model = grid_search.best_estimator_"
   ]
  },
  {
   "cell_type": "code",
   "execution_count": 23,
   "metadata": {},
   "outputs": [
    {
     "name": "stdout",
     "output_type": "stream",
     "text": [
      "47275.86841089255\n"
     ]
    }
   ],
   "source": [
    "#now we have to prep our testing data\n",
    "x_test = strat_test_set.drop(\"median_house_value\",axis=1)\n",
    "y_test = strat_test_set[\"median_house_value\"].copy()\n",
    "\n",
    "x_test_prepared = full_pipeline.transform(x_test)\n",
    "\n",
    "final_predictions = final_model.predict(x_test_prepared)\n",
    "\n",
    "final_mse=mean_squared_error(y_test, final_predictions)\n",
    "final_rmse = np.sqrt(final_mse)\n",
    "\n",
    "print(final_rmse)"
   ]
  },
  {
   "cell_type": "markdown",
   "metadata": {
    "id": "z-UL_ibZFh-o"
   },
   "source": [
    "# 3. Regularizing linear regression [6 marks]\n",
    "\n",
    "Consider the housing data set from Questions 1 and 2."
   ]
  },
  {
   "cell_type": "markdown",
   "metadata": {
    "id": "8bfu9GW9Fh-p"
   },
   "source": [
    "## (a) Polynomial regression and regularizing [2 marks]\n",
    "\n",
    "Fit a model that adds degree 3 polynomial terms to the linear regression in 2(a). Next, regularize the model using ridge regression with parameter $\\alpha=1$."
   ]
  },
  {
   "cell_type": "markdown",
   "metadata": {
    "id": "5xqEmbAfFh-p"
   },
   "source": [
    "**[Add your solution here]**"
   ]
  },
  {
   "cell_type": "code",
   "execution_count": 24,
   "metadata": {
    "colab": {
     "base_uri": "https://localhost:8080/"
    },
    "id": "DwGuBIsFFh-p",
    "outputId": "3257064e-fec6-43b6-fe27-fc8f63e6899e"
   },
   "outputs": [
    {
     "data": {
      "text/plain": [
       "Ridge(alpha=1)"
      ]
     },
     "execution_count": 24,
     "metadata": {},
     "output_type": "execute_result"
    }
   ],
   "source": [
    "from sklearn.preprocessing import PolynomialFeatures\n",
    "#pg 129\n",
    "\n",
    "poly_features = PolynomialFeatures(degree=3) #should i have added the include bias argument?\n",
    "housing_poly = poly_features.fit_transform(housing_prepared) #this finds the quadratic and cubic versions of our features, what about the binary categorical features?\n",
    "\n",
    "#housing_poly contains the original features and the quadratic and cubics of the features\n",
    "# poly_lin_reg = LinearRegression()\n",
    "poly_lin_reg = lin_reg.fit(housing_poly, housing_labels) #trains a model, saves parameters in lin_reg, accessed when using .predict()\n",
    "\n",
    "\n",
    "from sklearn.linear_model import Ridge\n",
    "ridge_reg = Ridge(alpha=1)\n",
    "ridge_reg.fit(housing_poly,housing_labels)\n",
    "\n",
    "# poly_lin_reg.intercept_"
   ]
  },
  {
   "cell_type": "markdown",
   "metadata": {
    "id": "2HiS_vCmFh-p"
   },
   "source": [
    "## (b) Learning curves [4 marks]\n",
    "\n",
    "Obtain learning curves for the linear regression model that you fitted in 2(a), the polynomial regression model in 3(a), and the ridge regression model in 3(a). Hence, comment on whether the curves indicate the models are underfitting, overfitting or neither. When plotting the learning curve, use the function `train_test_split` with the argument `random_state=10` to create a validation set from a random 20% split of the test set. Instead of adding 1 instance at a time in the learning curve, add 1000 instances at a time."
   ]
  },
  {
   "cell_type": "markdown",
   "metadata": {
    "id": "LXOEGKNGFh-p"
   },
   "source": [
    "**[Add your solution here]**"
   ]
  },
  {
   "cell_type": "code",
   "execution_count": 25,
   "metadata": {
    "id": "bDLjUEI6Fh-p"
   },
   "outputs": [],
   "source": [
    "from sklearn.metrics import mean_squared_error\n",
    "from sklearn.model_selection import train_test_split\n",
    "%matplotlib inline\n",
    "import matplotlib as mpl\n",
    "import matplotlib.pyplot as plt\n",
    "#pg 132, code to build learning curve function\n",
    "\n",
    "def plot_learning_curves(model, X, y):\n",
    "    X_train, X_val, y_train, y_val = train_test_split(X, y, test_size=0.2, random_state=10)\n",
    "    train_errors, val_errors = [], []\n",
    "    for m in range(1, len(X_train) + 1,1000):\n",
    "        model.fit(X_train[:m], y_train[:m])\n",
    "        y_train_predict = model.predict(X_train[:m])\n",
    "        y_val_predict = model.predict(X_val)\n",
    "        train_errors.append(mean_squared_error(y_train[:m], y_train_predict))\n",
    "        val_errors.append(mean_squared_error(y_val, y_val_predict))\n",
    "\n",
    "    plt.plot(np.sqrt(train_errors), \"r-+\", linewidth=2, label=\"train\")\n",
    "    plt.plot(np.sqrt(val_errors), \"b-\", linewidth=3, label=\"val\")\n",
    "    plt.legend(loc=\"upper right\", fontsize=14)   # not shown in the book\n",
    "    plt.xlabel(\"Training set size\", fontsize=14) # not shown\n",
    "    plt.ylabel(\"RMSE\", fontsize=14)              # not shown"
   ]
  },
  {
   "cell_type": "code",
   "execution_count": 26,
   "metadata": {},
   "outputs": [
    {
     "data": {
      "image/png": "[encoded data removed]",
      "text/plain": [
       "<Figure size 432x288 with 1 Axes>"
      ]
     },
     "metadata": {
      "needs_background": "light"
     },
     "output_type": "display_data"
    }
   ],
   "source": [
    "#linear regression learning curve\n",
    "# plt.ylim(50_000,90_000)\n",
    "plot_learning_curves(lin_reg, housing_prepared, housing_labels)\n",
    "#save_fig(\"underfitting_learning_curves_plot\")   # not shown\n",
    "plt.show()                                      # not shown"
   ]
  },
  {
   "cell_type": "code",
   "execution_count": 27,
   "metadata": {},
   "outputs": [
    {
     "data": {
      "image/png": "[encoded data removed]",
      "text/plain": [
       "<Figure size 432x288 with 1 Axes>"
      ]
     },
     "metadata": {
      "needs_background": "light"
     },
     "output_type": "display_data"
    }
   ],
   "source": [
    "#polynomial regression learning curve\n",
    "#trying code from page 133\n",
    "\n",
    "# plt.ylim(50_000,90_000)\n",
    "plot_learning_curves(poly_lin_reg, housing_poly, housing_labels)\n",
    "#save_fig(\"underfitting_learning_curves_plot\")   # not shown\n",
    "plt.show()                                      # not shown"
   ]
  },
  {
   "cell_type": "code",
   "execution_count": 28,
   "metadata": {},
   "outputs": [
    {
     "data": {
      "image/png": "[encoded data removed]",
      "text/plain": [
       "<Figure size 432x288 with 1 Axes>"
      ]
     },
     "metadata": {
      "needs_background": "light"
     },
     "output_type": "display_data"
    }
   ],
   "source": [
    "#ridge regression learning curve\n",
    "# plt.ylim(50_000,90_000)\n",
    "plot_learning_curves(ridge_reg, housing_poly, housing_labels)\n",
    "#save_fig(\"underfitting_learning_curves_plot\")   # not shown\n",
    "plt.show()                                      # not shown"
   ]
  },
  {
   "cell_type": "markdown",
   "metadata": {
    "id": "LaxrqJ7KFh-q"
   },
   "source": [
    "# 4. Default dataset [17 marks]\n",
    "\n",
    "\n",
    "In this question you will work with the Default dataset, which is a simulated dataset of credit card default for 10000 customers. Download the data as a csv file from [Canvas](https://canvas.uw.edu/files/90503805/download?download_frd=1). The data was originally obtained from the R library ISLR2, and you can read the documentation for the dataset [here](https://cran.rstudio.com/web/packages/ISLR2/ISLR2.pdf).\n",
    "\n",
    "You want to predict credit card defaults. The target for this classification problem is `default` and all other variables are the features. "
   ]
  },
  {
   "cell_type": "markdown",
   "metadata": {
    "id": "sAs-_z-4Fh-q"
   },
   "source": [
    "## (a) [2 marks]\n",
    "Load the dataset. If it is stored in a file named `Default.csv` in your working directory, this can be done with the code below. Then split the data into a training and a test set, using 20% of the data for the test set. When doing the splitting, use the random seed 42."
   ]
  },
  {
   "cell_type": "code",
   "execution_count": 29,
   "metadata": {
    "id": "ahYmpW7RFh-q"
   },
   "outputs": [],
   "source": [
    "import os\n",
    "os. chdir('C:\\\\Users\\\\olive\\\\OneDrive\\\\Documents\\\\AA UW CLASSES\\\\A A A Spring 2022 Classes\\\\CFRM 521\\\\Assignments')\n",
    "data = pd.read_csv(\"Default.csv\")"
   ]
  },
  {
   "cell_type": "markdown",
   "metadata": {
    "id": "7FE4iIo9Fh-q"
   },
   "source": [
    "**[Add your solution here]**"
   ]
  },
  {
   "cell_type": "code",
   "execution_count": 30,
   "metadata": {
    "id": "pnjNeBu_Fh-q"
   },
   "outputs": [],
   "source": [
    "from sklearn.model_selection import train_test_split\n",
    "train_set, test_set = train_test_split(data,train_size = 0.2, random_state = 42)"
   ]
  },
  {
   "cell_type": "code",
   "execution_count": 31,
   "metadata": {},
   "outputs": [],
   "source": [
    "data.head()\n",
    "\n",
    "# data[data.isnull().any(axis=1)].shape #we have no null values (phew)\n",
    "X_train = train_set.drop([\"default\"],axis=1)\n",
    "y_train = train_set[\"default\"].copy() #our targets\n",
    "\n",
    "X_test = test_set.drop([\"default\"],axis=1)\n",
    "y_test = test_set[\"default\"].copy()\n",
    "\n",
    "data_num = X_train.drop(\"student\", axis=1)\n",
    "data_cat = X_train[\"student\"].copy()\n"
   ]
  },
  {
   "cell_type": "code",
   "execution_count": 32,
   "metadata": {},
   "outputs": [],
   "source": [
    "# from sklearn.model_selection import train_test_split\n",
    "\n",
    "# X = data.drop([\"default\"],axis=1)\n",
    "# y = data[\"default\"].copy()\n",
    "\n",
    "\n",
    "# X_train, X_test, y_train, y_test = train_test_split(X, y ,train_size = 0.2, random_state = 42)\n",
    "\n",
    "# data_num = X_train.drop(\"student\", axis=1)\n",
    "# data_cat = X_train[\"student\"].copy()\n"
   ]
  },
  {
   "cell_type": "markdown",
   "metadata": {
    "id": "xFLUWS8CFh-q"
   },
   "source": [
    "## (b) [3 marks]\n",
    "\n",
    "Design a pipeline for preprocessing that applies one hot encoding to the categorical features and a standard scaler to the numerical features."
   ]
  },
  {
   "cell_type": "markdown",
   "metadata": {
    "id": "nUqtBz3kFh-r"
   },
   "source": [
    "**[Add your solution here]**"
   ]
  },
  {
   "cell_type": "code",
   "execution_count": 33,
   "metadata": {
    "id": "hetM-aieFh-r"
   },
   "outputs": [],
   "source": [
    "number_attribs = list(data_num)\n",
    "categ_attribs = [\"student\"]\n",
    "\n",
    "full_pipeline = ColumnTransformer([\n",
    "    (\"cat\", OneHotEncoder(), categ_attribs),\n",
    "    (\"num\", StandardScaler(), number_attribs),\n",
    "])\n",
    "\n",
    "data_prepared = full_pipeline.fit_transform(X_train) #notice we are only using the training set!\n"
   ]
  },
  {
   "cell_type": "code",
   "execution_count": 34,
   "metadata": {},
   "outputs": [
    {
     "data": {
      "text/plain": [
       "array([[ 1.        ,  0.        ,  0.77018151, -0.62394502],\n",
       "       [ 1.        ,  0.        , -1.09121061, -0.11246274],\n",
       "       [ 1.        ,  0.        , -0.9104332 ,  0.00676916],\n",
       "       ...,\n",
       "       [ 1.        ,  0.        , -0.23748237, -0.48924072],\n",
       "       [ 0.        ,  1.        , -1.37290519, -0.92827081],\n",
       "       [ 1.        ,  0.        , -0.40978481,  1.19755223]])"
      ]
     },
     "execution_count": 34,
     "metadata": {},
     "output_type": "execute_result"
    }
   ],
   "source": [
    "data_prepared"
   ]
  },
  {
   "cell_type": "markdown",
   "metadata": {
    "id": "Y4TT6MnaFh-r"
   },
   "source": [
    "## (c) [4 marks]\n",
    "Train a logistic regression classifier and a `SGDClassifier`, and then using 10-fold cross-validation plot the ROC curve of the classifiers and compute their ROC AUC."
   ]
  },
  {
   "cell_type": "markdown",
   "metadata": {
    "id": "JcWRkDXuFh-r"
   },
   "source": [
    "**[Add your solution here]**"
   ]
  },
  {
   "cell_type": "code",
   "execution_count": 35,
   "metadata": {},
   "outputs": [
    {
     "data": {
      "text/plain": [
       "LogisticRegression(random_state=42)"
      ]
     },
     "execution_count": 35,
     "metadata": {},
     "output_type": "execute_result"
    }
   ],
   "source": [
    "#logistic regression classifier\n",
    "#creates binary classifiers\n",
    "y_train_yes = (y_train == \"Yes\")\n",
    "y_test_yes = (y_test==\"Yes\")\n",
    "\n",
    "#reference code in ch4\n",
    "from sklearn.linear_model import LogisticRegression\n",
    "log_reg = LogisticRegression(solver=\"lbfgs\", random_state=42)\n",
    "log_reg.fit(data_prepared, y_train_yes)"
   ]
  },
  {
   "cell_type": "code",
   "execution_count": 36,
   "metadata": {},
   "outputs": [],
   "source": [
    "#Pg 52 of lec 4 notes\n",
    "from sklearn.model_selection import cross_val_predict\n",
    "y_log_scores = cross_val_predict(log_reg, data_prepared, y_train_yes, cv=10, method=\"decision_function\")\n",
    "\n",
    "#roc curve\n",
    "from sklearn.metrics import roc_curve\n",
    "\n",
    "fpr, tpr, thresholds = roc_curve(y_train_yes, y_log_scores)"
   ]
  },
  {
   "cell_type": "code",
   "execution_count": 37,
   "metadata": {},
   "outputs": [
    {
     "name": "stdout",
     "output_type": "stream",
     "text": [
      "logistic\n"
     ]
    },
    {
     "data": {
      "image/png": "[encoded data removed]",
      "text/plain": [
       "<Figure size 432x288 with 1 Axes>"
      ]
     },
     "metadata": {
      "needs_background": "light"
     },
     "output_type": "display_data"
    }
   ],
   "source": [
    "print(\"logistic\")\n",
    "def plot_roc_curve(fpr, tpr, label=None):\n",
    "    plt.plot(fpr, tpr, linewidth=2, label=label)\n",
    "    plt.plot([0, 1], [0, 1], 'k--') # dashed diagonal\n",
    "    plt.axis([0, 1, 0, 1])                                    # Not shown in the book\n",
    "    plt.xlabel('False Positive Rate (Fall-Out)', fontsize=16) # Not shown\n",
    "    plt.ylabel('True Positive Rate (Recall)', fontsize=16)    # Not shown\n",
    "    plt.grid(True)                                            # Not shown\n",
    "\n",
    "# plt.figure(figsize=(8, 6))                                    # Not shown\n",
    "plot_roc_curve(fpr, tpr)\n",
    "# fpr_90 = fpr[np.argmax(tpr >= recall_90_precision)]           # Not shown\n",
    "# plt.plot([fpr_90, fpr_90], [0., recall_90_precision], \"r:\")   # Not shown\n",
    "# plt.plot([0.0, fpr_90], [recall_90_precision, recall_90_precision], \"r:\")  # Not shown\n",
    "# plt.plot([fpr_90], [recall_90_precision], \"ro\")               # Not shown\n",
    "# save_fig(\"roc_curve_plot\")                                    # Not shown\n",
    "plt.show()\n"
   ]
  },
  {
   "cell_type": "code",
   "execution_count": 38,
   "metadata": {},
   "outputs": [
    {
     "name": "stdout",
     "output_type": "stream",
     "text": [
      "Logistic regression ROC AU score:\n"
     ]
    },
    {
     "data": {
      "text/plain": [
       "0.9610491585984324"
      ]
     },
     "execution_count": 38,
     "metadata": {},
     "output_type": "execute_result"
    }
   ],
   "source": [
    "#roc auc \n",
    "#ph 60 lec 4 notes\n",
    "\n",
    "from sklearn.metrics import roc_auc_score\n",
    "\n",
    "print(\"Logistic regression ROC AU score:\")\n",
    "roc_auc_score(y_train_yes, y_log_scores)"
   ]
  },
  {
   "cell_type": "code",
   "execution_count": 39,
   "metadata": {},
   "outputs": [],
   "source": [
    "#below is the SGD classifier"
   ]
  },
  {
   "cell_type": "code",
   "execution_count": 40,
   "metadata": {
    "id": "roQkr95VFh-r"
   },
   "outputs": [
    {
     "data": {
      "text/plain": [
       "SGDClassifier(random_state=42)"
      ]
     },
     "execution_count": 40,
     "metadata": {},
     "output_type": "execute_result"
    }
   ],
   "source": [
    "#pg 22 of lecture 4 notes\n",
    "#creates binary classifiers\n",
    "\n",
    "#create SGD classifier, pg 23 lec 4 notes\n",
    "from sklearn.linear_model import SGDClassifier\n",
    "import numpy as np\n",
    "\n",
    "sgd_clf = SGDClassifier(random_state=42)\n",
    "sgd_clf.fit(data_prepared,y_train_yes)"
   ]
  },
  {
   "cell_type": "code",
   "execution_count": 41,
   "metadata": {},
   "outputs": [],
   "source": [
    "#Pg 52 of lec 4 notes\n",
    "from sklearn.model_selection import cross_val_predict\n",
    "y_sgd_scores = cross_val_predict(sgd_clf, data_prepared, y_train_yes, cv=10, method=\"decision_function\")\n",
    "\n",
    "#roc curve\n",
    "from sklearn.metrics import roc_curve\n",
    "\n",
    "fpr1, tpr1, thresholds1 = roc_curve(y_train_yes, y_sgd_scores)"
   ]
  },
  {
   "cell_type": "code",
   "execution_count": 42,
   "metadata": {},
   "outputs": [
    {
     "name": "stdout",
     "output_type": "stream",
     "text": [
      "SGD Classifier\n"
     ]
    },
    {
     "data": {
      "image/png": "[encoded data removed]",
      "text/plain": [
       "<Figure size 432x288 with 1 Axes>"
      ]
     },
     "metadata": {
      "needs_background": "light"
     },
     "output_type": "display_data"
    }
   ],
   "source": [
    "print(\"SGD Classifier\")\n",
    "def plot_roc_curve(fpr1, tpr1, label=None):\n",
    "    plt.plot(fpr1, tpr1, linewidth=2, label=label)\n",
    "    plt.plot([0, 1], [0, 1], 'k--') # dashed diagonal\n",
    "    plt.axis([0, 1, 0, 1])                                    # Not shown in the book\n",
    "    plt.xlabel('False Positive Rate (Fall-Out)', fontsize=16) # Not shown\n",
    "    plt.ylabel('True Positive Rate (Recall)', fontsize=16)    # Not shown\n",
    "    plt.grid(True)                                            # Not shown\n",
    "\n",
    "\n",
    "# plt.figure(figsize=(8, 6))                                    # Not shown\n",
    "plot_roc_curve(fpr1, tpr1)\n",
    "# fpr_90 = fpr[np.argmax(tpr >= recall_90_precision)]           # Not shown\n",
    "# plt.plot([fpr_90, fpr_90], [0., recall_90_precision], \"r:\")   # Not shown\n",
    "# plt.plot([0.0, fpr_90], [recall_90_precision, recall_90_precision], \"r:\")  # Not shown\n",
    "# plt.plot([fpr_90], [recall_90_precision], \"ro\")               # Not shown\n",
    "# save_fig(\"roc_curve_plot\")                                    # Not shown\n",
    "plt.show()"
   ]
  },
  {
   "cell_type": "code",
   "execution_count": 43,
   "metadata": {},
   "outputs": [
    {
     "name": "stdout",
     "output_type": "stream",
     "text": [
      "SGD Classifier ROC AUC score:\n"
     ]
    },
    {
     "data": {
      "text/plain": [
       "0.9506252881512218"
      ]
     },
     "execution_count": 43,
     "metadata": {},
     "output_type": "execute_result"
    }
   ],
   "source": [
    "#roc auc \n",
    "#ph 60 lec 4 notes\n",
    "\n",
    "from sklearn.metrics import roc_auc_score\n",
    "\n",
    "print(\"SGD Classifier ROC AUC score:\")\n",
    "roc_auc_score(y_train_yes, y_sgd_scores)"
   ]
  },
  {
   "cell_type": "markdown",
   "metadata": {
    "id": "TTJol8PYFh-r"
   },
   "source": [
    "## (d) [5 marks]\n",
    "\n",
    "For the classifiers in part (c), plot on the same axes the precision as a function of the threshold and the recall as a function of the threshold. Now suppose you want to achieve a recall of 80%. Consider 4 models:\n",
    " 1.  The logistic regression classifier in (c),\n",
    " 2. `SGDClassifier` in (c),\n",
    " 3. A logistic regression with the argument `class_weight=\"balanced\"`,\n",
    " 4. `SGDClassifier` with the argument `class_weight=\"balanced\"`.\n",
    " \n",
    "For each of the 4 models, determine the threshold to achieve an 80% recall based on 10-fold cross-validation. Then determine the corresponding precisions. Which model has the best precision?"
   ]
  },
  {
   "cell_type": "markdown",
   "metadata": {
    "id": "LCIwACjHFh-r"
   },
   "source": [
    "**[Add your solution here]**"
   ]
  },
  {
   "cell_type": "code",
   "execution_count": 44,
   "metadata": {
    "id": "hhG8Dr17Fh-r",
    "scrolled": false
   },
   "outputs": [],
   "source": [
    "from sklearn.metrics import precision_recall_curve #reference chapter 4 code\n",
    "# i didn't use the correct scores for this part, reference pgs 44 and 45\n",
    "\n",
    "precisions1, recalls1, thresholds1 = precision_recall_curve(y_train_yes, y_log_scores)\n",
    "precisions2, recalls2, thresholds2 = precision_recall_curve(y_train_yes, y_sgd_scores)#did i use the correct scores here?"
   ]
  },
  {
   "cell_type": "code",
   "execution_count": 45,
   "metadata": {},
   "outputs": [],
   "source": [
    "def plot_precision_recall_vs_threshold(precisions, recalls, thresholds):\n",
    "    plt.plot(thresholds, precisions[:-1], \"b--\", label=\"Precision\", linewidth=2)\n",
    "    plt.plot(thresholds, recalls[:-1], \"g-\", label=\"Recall\", linewidth=2)\n",
    "    plt.legend(loc=\"center right\", fontsize=16) # Not shown in the book\n",
    "    plt.xlabel(\"Threshold\", fontsize=16)        # Not shown\n",
    "    plt.ylim([0,1])                            # Not shown"
   ]
  },
  {
   "cell_type": "code",
   "execution_count": null,
   "metadata": {},
   "outputs": [],
   "source": []
  },
  {
   "cell_type": "code",
   "execution_count": null,
   "metadata": {},
   "outputs": [],
   "source": []
  },
  {
   "cell_type": "code",
   "execution_count": 46,
   "metadata": {},
   "outputs": [
    {
     "data": {
      "image/png": "[encoded data removed]",
      "text/plain": [
       "<Figure size 576x288 with 1 Axes>"
      ]
     },
     "metadata": {
      "needs_background": "light"
     },
     "output_type": "display_data"
    },
    {
     "name": "stdout",
     "output_type": "stream",
     "text": [
      "0.3118279569892473\n",
      "0.8055555555555556\n",
      "-2.324210336171485\n",
      "Model 1\n",
      "We'd want a decision threshold at around -2.323 to achieve a recall of 80% and a precision of 31%.\n",
      "ROC AUC Score of:\n"
     ]
    }
   ],
   "source": [
    "#Part D\n",
    "#we want to achieve a recall of 80%\n",
    "#for classifier #1 (logisic regression in problem (c))\n",
    "from sklearn.metrics import precision_score, recall_score\n",
    "\n",
    "plt.figure(figsize=(8,4))\n",
    "plot_precision_recall_vs_threshold(precisions1,recalls1,thresholds1)\n",
    "plt.xlim([thresholds.min(), thresholds.max()])\n",
    "plt.show()\n",
    "y_log_scores = cross_val_predict(log_reg, data_prepared, y_train_yes, cv=10, method=\"decision_function\") #log scores for training set\n",
    "precisions1, recalls1, thresholds1 = precision_recall_curve(y_train_yes, y_log_scores)\n",
    "\n",
    "threshold_precision = thresholds1[np.argmax(precisions1 >= 0.311)] #use code on page 96 of book\n",
    "y_train_pred_prec = (y_log_scores >= threshold_precision) \n",
    "\n",
    "print(precision_score(y_train_yes, y_train_pred_prec))\n",
    "print(recall_score(y_train_yes,y_train_pred_prec))\n",
    "print(threshold_precision)\n",
    "\n",
    "print(\"Model 1\")\n",
    "print(\"We'd want a decision threshold at around -2.323 to achieve a recall of 80% and a precision of 31%.\")\n",
    "print(\"ROC AUC Score of:\")\n",
    "# scores = log_reg.decision_function(data_test) #grabbed function from documentation\n",
    "\n",
    "#grab the new log scores after finding desired recall level\n",
    "# print(\"ROC AUC Score of:\")\n",
    "# scores = log_reg_c.decision_function(data_test) #grabbed function from documentation\n",
    "# print(roc_auc_score(y_test_yes, scores))"
   ]
  },
  {
   "cell_type": "code",
   "execution_count": null,
   "metadata": {},
   "outputs": [],
   "source": []
  },
  {
   "cell_type": "code",
   "execution_count": 47,
   "metadata": {},
   "outputs": [
    {
     "data": {
      "image/png": "[encoded data removed]",
      "text/plain": [
       "<Figure size 576x288 with 1 Axes>"
      ]
     },
     "metadata": {
      "needs_background": "light"
     },
     "output_type": "display_data"
    },
    {
     "name": "stdout",
     "output_type": "stream",
     "text": [
      "0.3515151515151515\n",
      "0.8055555555555556\n",
      "-1.6685561595326917\n",
      "Model 2\n",
      "We'd want a decision threshold at around -1.669 to achieve a recall of 80% and a precision of roughly 35%.\n"
     ]
    }
   ],
   "source": [
    "#for sgd classifier\n",
    "y_sgd_scores = cross_val_predict(sgd_clf, data_prepared, y_train_yes, cv=10, method=\"decision_function\")\n",
    "precisions2, recalls2, thresholds2 = precision_recall_curve(y_train_yes, y_sgd_scores)\n",
    "\n",
    "plt.figure(figsize=(8,4))\n",
    "plot_precision_recall_vs_threshold(precisions2,recalls2,thresholds2)\n",
    "plt.xlim([thresholds.min(), thresholds.max()])\n",
    "plt.show()\n",
    "\n",
    "#sets a new threshold value here\n",
    "threshold_precision = thresholds2[np.argmax(precisions2 >= 0.35)] # np.argmin(recalls2 >= 0.8 works as well) use code on page 96 of book\n",
    "y_train_pred_prec = (y_sgd_scores >= threshold_precision)\n",
    "\n",
    "print(precision_score(y_train_yes, y_train_pred_prec))\n",
    "print(recall_score(y_train_yes,y_train_pred_prec))\n",
    "print(threshold_precision)\n",
    "\n",
    "print(\"Model 2\")\n",
    "print(\"We'd want a decision threshold at around -1.669 to achieve a recall of 80% and a precision of roughly 35%.\")\n",
    "# print(\"ROC AUC Score of:\")\n",
    "# scores = sgd_clf.decision_function(data_test) #grabbed function from documentation\n",
    "# print(roc_auc_score(y_test_yes, scores))"
   ]
  },
  {
   "cell_type": "code",
   "execution_count": 48,
   "metadata": {},
   "outputs": [
    {
     "data": {
      "image/png": "[encoded data removed]",
      "text/plain": [
       "<Figure size 576x288 with 1 Axes>"
      ]
     },
     "metadata": {
      "needs_background": "light"
     },
     "output_type": "display_data"
    },
    {
     "name": "stdout",
     "output_type": "stream",
     "text": [
      "0.29\n",
      "0.8055555555555556\n",
      "0.7711335963421582\n",
      "Model 3\n",
      "We'd want a decision threshold at around 0.771 to achieve a recall of 80% and a precision of roughly 29%.\n"
     ]
    }
   ],
   "source": [
    "#model c (another log reg)\n",
    "log_reg_c = LogisticRegression(solver=\"lbfgs\", random_state=42, class_weight=\"balanced\")\n",
    "log_reg_c.fit(data_prepared, y_train_yes)\n",
    "\n",
    "plt.figure(figsize=(8,4))\n",
    "plot_precision_recall_vs_threshold(precisions1,recalls1,thresholds1)\n",
    "plt.xlim([thresholds.min(), thresholds.max()])\n",
    "plt.show()\n",
    "y_log_scores = cross_val_predict(log_reg_c, data_prepared, y_train_yes, cv=10, method=\"decision_function\")\n",
    "precisions1, recalls1, thresholds1 = precision_recall_curve(y_train_yes, y_log_scores)\n",
    "\n",
    "\n",
    "threshold_precision = thresholds1[np.argmax(precisions1 >= 0.29)] #use code on page 96 of book\n",
    "y_train_pred_prec = (y_log_scores >= threshold_precision)\n",
    "\n",
    "print(precision_score(y_train_yes, y_train_pred_prec))\n",
    "print(recall_score(y_train_yes,y_train_pred_prec))\n",
    "print(threshold_precision)\n",
    "\n",
    "print(\"Model 3\")\n",
    "print(\"We'd want a decision threshold at around 0.771 to achieve a recall of 80% and a precision of roughly 29%.\")\n",
    "\n",
    "# print(\"ROC AUC Score of:\")\n",
    "# scores = log_reg_c.decision_function(data_test) #grabbed function from documentation\n",
    "# print(roc_auc_score(y_test_yes, scores))\n"
   ]
  },
  {
   "cell_type": "code",
   "execution_count": 49,
   "metadata": {},
   "outputs": [
    {
     "data": {
      "image/png": "[encoded data removed]",
      "text/plain": [
       "<Figure size 576x288 with 1 Axes>"
      ]
     },
     "metadata": {
      "needs_background": "light"
     },
     "output_type": "display_data"
    },
    {
     "name": "stdout",
     "output_type": "stream",
     "text": [
      "0.20567375886524822\n",
      "0.8055555555555556\n",
      "0.25392605593660633\n",
      "We'd want a decision threshold at around 0.2539 to achieve a recall of 80% and a precision of roughly 20%.\n"
     ]
    }
   ],
   "source": [
    "#model d ( another SGD classifier )\n",
    "sgd_clf_d = SGDClassifier(random_state=42, class_weight=\"balanced\")\n",
    "sgd_clf_d.fit(data_prepared,y_train_yes)\n",
    "\n",
    "y_sgd_scores = cross_val_predict(sgd_clf_d, data_prepared, y_train_yes, cv=10, method=\"decision_function\")\n",
    "precisions2, recalls2, thresholds2 = precision_recall_curve(y_train_yes, y_sgd_scores)\n",
    "\n",
    "plt.figure(figsize=(8,4))\n",
    "plot_precision_recall_vs_threshold(precisions2,recalls2,thresholds2)\n",
    "plt.xlim([thresholds.min(), thresholds.max()])\n",
    "plt.show()\n",
    "\n",
    "#set a new threshold value here\n",
    "threshold_precision = thresholds2[np.argmax(precisions2 >= 0.205)] #use code on page 96 of book\n",
    "y_train_pred_prec = (y_sgd_scores >= threshold_precision)\n",
    "\n",
    "print(precision_score(y_train_yes, y_train_pred_prec))\n",
    "print(recall_score(y_train_yes,y_train_pred_prec))\n",
    "print(threshold_precision)\n",
    "\n",
    "\n",
    "print(\"We'd want a decision threshold at around 0.2539 to achieve a recall of 80% and a precision of roughly 20%.\")\n",
    "\n",
    "# print(\"ROC AUC Score of:\")\n",
    "# scores = log_reg_c.decision_function(data_test) #grabbed function from documentation\n",
    "# print(roc_auc_score(y_test_yes, scores))"
   ]
  },
  {
   "cell_type": "code",
   "execution_count": 50,
   "metadata": {},
   "outputs": [
    {
     "name": "stdout",
     "output_type": "stream",
     "text": [
      "Of the four models, model b, the SGD classifier from part c, has the best precision of 35%.\n"
     ]
    }
   ],
   "source": [
    "print(\"Of the four models, model b, the SGD classifier from part c, has the best precision of 35%.\")"
   ]
  },
  {
   "cell_type": "markdown",
   "metadata": {
    "id": "oN-EkWpuFh-s"
   },
   "source": [
    "## (e) [3 marks]\n",
    "\n",
    "Fit the best classifier in (d) to the whole training data, and use it to predict on the test set. What is its accuracy, precision, recall, ROC curve and ROC AUC over the test set?"
   ]
  },
  {
   "cell_type": "markdown",
   "metadata": {
    "id": "Lf9pd8U2Fh-s"
   },
   "source": [
    "**[Add your solution here]**"
   ]
  },
  {
   "cell_type": "code",
   "execution_count": 51,
   "metadata": {
    "id": "KGVqPZUHFh-s"
   },
   "outputs": [
    {
     "name": "stdout",
     "output_type": "stream",
     "text": [
      "Stats over the test set\n",
      "ROC CURVE\n"
     ]
    },
    {
     "data": {
      "image/png": "[encoded data removed]",
      "text/plain": [
       "<Figure size 576x432 with 1 Axes>"
      ]
     },
     "metadata": {
      "needs_background": "light"
     },
     "output_type": "display_data"
    },
    {
     "name": "stdout",
     "output_type": "stream",
     "text": [
      "ROC AUC Score\n",
      "0.9427015182592621\n",
      "Precision Score\n",
      "0.3504273504273504\n",
      "Recall Score\n",
      "0.6283524904214559\n",
      "Accuracy\n",
      "0.95825\n"
     ]
    }
   ],
   "source": [
    "data_test = full_pipeline.fit_transform(X_test) #notice we are only using the training set!\n",
    "\n",
    "#use SGD classifier (model 2)\n",
    "sgd_clf = SGDClassifier(random_state=42)\n",
    "sgd_clf.fit(data_prepared,y_train_yes)\n",
    "\n",
    "#for ROC curve\n",
    "scores = sgd_clf.decision_function(data_test) #grabbed function from documentation\n",
    "precisions2, recalls2, thresholds2 = precision_recall_curve(y_test_yes, scores)\n",
    "\n",
    "#sets a new threshold value here, this is from part d model 2\n",
    "threshold_precision = thresholds2[np.argmax(precisions2 >= 0.35)] #use code on page 96 of book\n",
    "y_test_pred_prec = (scores >= threshold_precision)\n",
    "\n",
    "\n",
    "\n",
    "\n",
    "\n",
    "#pg 62\n",
    "fpr, tpr, thresholds = roc_curve(y_test_yes,scores) #unaffected by change in threshold\n",
    "print(\"Stats over the test set\")\n",
    "print(\"ROC CURVE\")\n",
    "plt.figure(figsize=(8,6))\n",
    "plt.plot(fpr, tpr,\"b:\", linewidth=2)\n",
    "plot_roc_curve(fpr,tpr,\"Logistic\")\n",
    "plt.legend(loc=\"lower right\", fontsize=16)\n",
    "plt.show()\n",
    "\n",
    "#ROC AUC score\n",
    "print(\"ROC AUC Score\")\n",
    "print(roc_auc_score(y_test_yes, scores))\n",
    "\n",
    "#Precision Score\n",
    "from sklearn.metrics import precision_score, recall_score\n",
    "# pred = log_reg.predict(data_test)\n",
    "print(\"Precision Score\")\n",
    "print(precision_score(y_test_yes, y_test_pred_prec))\n",
    "\n",
    "#Recall Score\n",
    "print(\"Recall Score\")\n",
    "print(recall_score(y_test_yes, y_test_pred_prec))\n",
    "\n",
    "#Accuracy\n",
    "print(\"Accuracy\")\n",
    "print(log_reg.score(data_test,y_test_pred_prec))\n",
    "\n"
   ]
  },
  {
   "cell_type": "code",
   "execution_count": null,
   "metadata": {},
   "outputs": [],
   "source": []
  }
 ],
 "metadata": {
  "colab": {
   "collapsed_sections": [
    "JBgz0skaFh-o",
    "8bfu9GW9Fh-p",
    "2HiS_vCmFh-p",
    "sAs-_z-4Fh-q",
    "xFLUWS8CFh-q",
    "Y4TT6MnaFh-r",
    "TTJol8PYFh-r",
    "oN-EkWpuFh-s"
   ],
   "name": "Homework1.ipynb",
   "provenance": []
  },
  "hide_input": false,
  "kernelspec": {
   "display_name": "Python 3 (ipykernel)",
   "language": "python",
   "name": "python3"
  },
  "language_info": {
   "codemirror_mode": {
    "name": "ipython",
    "version": 3
   },
   "file_extension": ".py",
   "mimetype": "text/x-python",
   "name": "python",
   "nbconvert_exporter": "python",
   "pygments_lexer": "ipython3",
   "version": "3.9.7"
  },
  "latex_envs": {
   "LaTeX_envs_menu_present": true,
   "autoclose": false,
   "autocomplete": false,
   "bibliofile": "biblio.bib",
   "cite_by": "apalike",
   "current_citInitial": 1,
   "eqLabelWithNumbers": true,
   "eqNumInitial": 1,
   "hotkeys": {
    "equation": "Ctrl-E",
    "itemize": "Ctrl-I"
   },
   "labels_anchors": false,
   "latex_user_defs": false,
   "report_style_numbering": false,
   "user_envs_cfg": false
  },
  "toc": {
   "base_numbering": 1,
   "nav_menu": {},
   "number_sections": false,
   "sideBar": true,
   "skip_h1_title": false,
   "title_cell": "Table of Contents",
   "title_sidebar": "Contents",
   "toc_cell": false,
   "toc_position": {},
   "toc_section_display": true,
   "toc_window_display": false
  },
  "varInspector": {
   "cols": {
    "lenName": 16,
    "lenType": 16,
    "lenVar": 40
   },
   "kernels_config": {
    "python": {
     "delete_cmd_postfix": "",
     "delete_cmd_prefix": "del ",
     "library": "var_list.py",
     "varRefreshCmd": "print(var_dic_list())"
    },
    "r": {
     "delete_cmd_postfix": ") ",
     "delete_cmd_prefix": "rm(",
     "library": "var_list.r",
     "varRefreshCmd": "cat(var_dic_list()) "
    }
   },
   "types_to_exclude": [
    "module",
    "function",
    "builtin_function_or_method",
    "instance",
    "_Feature"
   ],
   "window_display": false
  }
 },
 "nbformat": 4,
 "nbformat_minor": 1
}
