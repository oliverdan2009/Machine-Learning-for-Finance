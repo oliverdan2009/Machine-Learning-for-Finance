{
 "cells": [
  {
   "cell_type": "markdown",
   "metadata": {
    "cell_style": "center",
    "slideshow": {
     "slide_type": "-"
    }
   },
   "source": [
    "<h1>\n",
    "<center>CFRM 421/521, Spring 2022</center>\n",
    "</h1>\n",
    "\n",
    "<h1>\n",
    "<center>Daniel Eduardo Oliver</center>\n",
    "</h1>\n",
    "\n",
    "<h1>\n",
    "<center>Homework 2</center>\n",
    "</h1>\n",
    "\n",
    "* **Due: Monday, May 2, 2022, 11:59 PM**\n",
    "\n",
    "\n",
    "* Total marks: 41\n",
    "\n",
    "\n",
    "* Late submissions are allowed, but a 20% penalty per day applies. Your last submission is considered for calculating the penalty.\n",
    "\n",
    "\n",
    "*  Use this Jupyter notebook as a template for your solutions. **Your solution must be submitted as one Jupyter notebook on Canvas and one PDF file on Gradescope.** The notebook must be already run, that is, make sure that you have run all your code, save the notebook, and then when you reopen the notebook, checked that all output appears as expected. You are allowed to use code from the textbook, textbook website, or lecture notes."
   ]
  },
  {
   "cell_type": "markdown",
   "metadata": {},
   "source": [
    "# 1. Random forest for time series data [13 marks]\n",
    "\n",
    "In this question you will work with the NYSE dataset. Only 3 time series in this dataset will be use: `DJ_return` ($a_t$), `log_volatility` ($b_t$), and `log_volume` ($c_t$). Download the data as a csv file from [Canvas](https://canvas.uw.edu/files/91091313/download?download_frd=1). The data was originally obtained from the R library ISLR2, and you can read the documentation for the dataset [here](https://cran.rstudio.com/web/packages/ISLR2/ISLR2.pdf), which explains the meaning of the variables.\n",
    "\n",
    "You want to predict the 1-step ahead value of `log_volume` $c_{t+1}$ using the previous values of this variable and the other two variables (`DJ_return` and `log_volatility`) up to 5 lags. So the features are $c_{t},\\dots,c_{t-4},b_{t},\\dots,b_{t-4},a_{t},\\dots,a_{t-4}$.\n",
    "\n",
    "If the data is stored in a file named `NYSE.csv` in your working directory, then loading the data can be done using the code below."
   ]
  },
  {
   "cell_type": "code",
   "execution_count": 7,
   "metadata": {},
   "outputs": [],
   "source": [
    "import os\n",
    "import pandas as pd\n",
    "os.chdir('C:/Users/olive/OneDrive/Documents/AA UW CLASSES/A A A Spring 2022 Classes/CFRM 521/Assignments/HW2')\n",
    "data = pd.read_csv(\"NYSE.csv\")"
   ]
  },
  {
   "cell_type": "code",
   "execution_count": 8,
   "metadata": {},
   "outputs": [
    {
     "data": {
      "text/html": [
       "<div>\n",
       "<style scoped>\n",
       "    .dataframe tbody tr th:only-of-type {\n",
       "        vertical-align: middle;\n",
       "    }\n",
       "\n",
       "    .dataframe tbody tr th {\n",
       "        vertical-align: top;\n",
       "    }\n",
       "\n",
       "    .dataframe thead th {\n",
       "        text-align: right;\n",
       "    }\n",
       "</style>\n",
       "<table border=\"1\" class=\"dataframe\">\n",
       "  <thead>\n",
       "    <tr style=\"text-align: right;\">\n",
       "      <th></th>\n",
       "      <th>date</th>\n",
       "      <th>day_of_week</th>\n",
       "      <th>DJ_return</th>\n",
       "      <th>log_volume</th>\n",
       "      <th>log_volatility</th>\n",
       "      <th>train</th>\n",
       "    </tr>\n",
       "  </thead>\n",
       "  <tbody>\n",
       "    <tr>\n",
       "      <th>0</th>\n",
       "      <td>1962-12-03</td>\n",
       "      <td>mon</td>\n",
       "      <td>-0.004461</td>\n",
       "      <td>0.032573</td>\n",
       "      <td>-13.127403</td>\n",
       "      <td>True</td>\n",
       "    </tr>\n",
       "    <tr>\n",
       "      <th>1</th>\n",
       "      <td>1962-12-04</td>\n",
       "      <td>tues</td>\n",
       "      <td>0.007813</td>\n",
       "      <td>0.346202</td>\n",
       "      <td>-11.749305</td>\n",
       "      <td>True</td>\n",
       "    </tr>\n",
       "    <tr>\n",
       "      <th>2</th>\n",
       "      <td>1962-12-05</td>\n",
       "      <td>wed</td>\n",
       "      <td>0.003845</td>\n",
       "      <td>0.525306</td>\n",
       "      <td>-11.665609</td>\n",
       "      <td>True</td>\n",
       "    </tr>\n",
       "    <tr>\n",
       "      <th>3</th>\n",
       "      <td>1962-12-06</td>\n",
       "      <td>thur</td>\n",
       "      <td>-0.003462</td>\n",
       "      <td>0.210182</td>\n",
       "      <td>-11.626772</td>\n",
       "      <td>True</td>\n",
       "    </tr>\n",
       "    <tr>\n",
       "      <th>4</th>\n",
       "      <td>1962-12-07</td>\n",
       "      <td>fri</td>\n",
       "      <td>0.000568</td>\n",
       "      <td>0.044187</td>\n",
       "      <td>-11.728130</td>\n",
       "      <td>True</td>\n",
       "    </tr>\n",
       "  </tbody>\n",
       "</table>\n",
       "</div>"
      ],
      "text/plain": [
       "         date day_of_week  DJ_return  log_volume  log_volatility  train\n",
       "0  1962-12-03         mon  -0.004461    0.032573      -13.127403   True\n",
       "1  1962-12-04        tues   0.007813    0.346202      -11.749305   True\n",
       "2  1962-12-05         wed   0.003845    0.525306      -11.665609   True\n",
       "3  1962-12-06        thur  -0.003462    0.210182      -11.626772   True\n",
       "4  1962-12-07         fri   0.000568    0.044187      -11.728130   True"
      ]
     },
     "execution_count": 8,
     "metadata": {},
     "output_type": "execute_result"
    }
   ],
   "source": [
    "data.head()"
   ]
  },
  {
   "cell_type": "code",
   "execution_count": 9,
   "metadata": {},
   "outputs": [
    {
     "data": {
      "text/html": [
       "<div>\n",
       "<style scoped>\n",
       "    .dataframe tbody tr th:only-of-type {\n",
       "        vertical-align: middle;\n",
       "    }\n",
       "\n",
       "    .dataframe tbody tr th {\n",
       "        vertical-align: top;\n",
       "    }\n",
       "\n",
       "    .dataframe thead th {\n",
       "        text-align: right;\n",
       "    }\n",
       "</style>\n",
       "<table border=\"1\" class=\"dataframe\">\n",
       "  <thead>\n",
       "    <tr style=\"text-align: right;\">\n",
       "      <th></th>\n",
       "      <th>DJ_return</th>\n",
       "      <th>log_volume</th>\n",
       "      <th>log_volatility</th>\n",
       "    </tr>\n",
       "  </thead>\n",
       "  <tbody>\n",
       "    <tr>\n",
       "      <th>0</th>\n",
       "      <td>-0.004461</td>\n",
       "      <td>0.032573</td>\n",
       "      <td>-13.127403</td>\n",
       "    </tr>\n",
       "    <tr>\n",
       "      <th>1</th>\n",
       "      <td>0.007813</td>\n",
       "      <td>0.346202</td>\n",
       "      <td>-11.749305</td>\n",
       "    </tr>\n",
       "    <tr>\n",
       "      <th>2</th>\n",
       "      <td>0.003845</td>\n",
       "      <td>0.525306</td>\n",
       "      <td>-11.665609</td>\n",
       "    </tr>\n",
       "    <tr>\n",
       "      <th>3</th>\n",
       "      <td>-0.003462</td>\n",
       "      <td>0.210182</td>\n",
       "      <td>-11.626772</td>\n",
       "    </tr>\n",
       "    <tr>\n",
       "      <th>4</th>\n",
       "      <td>0.000568</td>\n",
       "      <td>0.044187</td>\n",
       "      <td>-11.728130</td>\n",
       "    </tr>\n",
       "  </tbody>\n",
       "</table>\n",
       "</div>"
      ],
      "text/plain": [
       "   DJ_return  log_volume  log_volatility\n",
       "0  -0.004461    0.032573      -13.127403\n",
       "1   0.007813    0.346202      -11.749305\n",
       "2   0.003845    0.525306      -11.665609\n",
       "3  -0.003462    0.210182      -11.626772\n",
       "4   0.000568    0.044187      -11.728130"
      ]
     },
     "execution_count": 9,
     "metadata": {},
     "output_type": "execute_result"
    }
   ],
   "source": [
    "new_data = data.drop(['date','day_of_week','train'], axis=1)\n",
    "new_data.head()"
   ]
  },
  {
   "cell_type": "markdown",
   "metadata": {},
   "source": [
    "## (a) [3 marks]\n",
    "\n",
    "Create the feature matrix `X` and the target variable `y`. Print at least the first 2 rows of `X` and `y` (it is acceptable that not every element of the rows are printed)."
   ]
  },
  {
   "cell_type": "markdown",
   "metadata": {},
   "source": []
  },
  {
   "cell_type": "code",
   "execution_count": 10,
   "metadata": {},
   "outputs": [],
   "source": [
    "\n",
    "# from pandas import DataFrame\n",
    "# from pandas import concat\n",
    " \n",
    "# def series_to_supervised(data, n_in=1, n_out=1, dropnan=True):\n",
    "# #     \n",
    "# #     Frame a time series as a supervised learning dataset.\n",
    "# #     Arguments:\n",
    "# #         data: Sequence of observations as a list or NumPy array.\n",
    "# #         n_in: Number of lag observations as input (X).\n",
    "# #         n_out: Number of observations as output (y).\n",
    "# #         dropnan: Boolean whether or not to drop rows with NaN values.\n",
    "# #     Returns:\n",
    "# #         Pandas DataFrame of series framed for supervised learning.\n",
    "# #     \n",
    "#     n_vars = 1 if type(data) is list else data.shape[1]\n",
    "#     df = DataFrame(data)\n",
    "#     cols, names = list(), list()\n",
    "#     # input sequence (t-n, ... t-1)\n",
    "#     for i in range(n_in, 0, -1):\n",
    "#         cols.append(df.shift(i))\n",
    "#         names += [('var%d(t-%d)' % (j+1, i)) for j in range(n_vars)]\n",
    "#     # forecast sequence (t, t+1, ... t+n)\n",
    "#     for i in range(0, n_out):\n",
    "#         cols.append(df.shift(-i))\n",
    "#         if i == 0:\n",
    "#             names += [('var%d(t)' % (j+1)) for j in range(n_vars)]\n",
    "#         else:\n",
    "#             names += [('var%d(t+%d)' % (j+1, i)) for j in range(n_vars)]\n",
    "#     # put it all together\n",
    "#     agg = concat(cols, axis=1)\n",
    "#     agg.columns = names\n",
    "#     # drop rows with NaN values\n",
    "#     if dropnan:\n",
    "#         agg.dropna(inplace=True)\n",
    "#     return agg"
   ]
  },
  {
   "cell_type": "code",
   "execution_count": 11,
   "metadata": {},
   "outputs": [],
   "source": [
    "# d = series_to_supervised(new_data.iloc[:,[0]],4)\n",
    "# # new_data.iloc[:,[1]]\n",
    "# d.head()"
   ]
  },
  {
   "cell_type": "code",
   "execution_count": 12,
   "metadata": {},
   "outputs": [],
   "source": [
    "\n",
    "\n",
    "# X = data[['DJ_return','log_volume','log_volatility']]\n",
    "\n",
    "# y = data[['log_volume']]\n",
    "# print(y.head(2))\n",
    "# print(X.head(2))\n",
    "\n",
    "import matplotlib.pyplot as plt\n",
    "import numpy as np\n"
   ]
  },
  {
   "cell_type": "code",
   "execution_count": 13,
   "metadata": {},
   "outputs": [],
   "source": [
    "def ts_split(ts, feature_steps=5, target_steps = 1):\n",
    "    n_obs = len(ts) - feature_steps - target_steps + 1\n",
    "    X = np.array([np.array(ts[idx:idx + feature_steps]).ravel('F') for idx in range(n_obs)])\n",
    "    y = np.array([ts.iloc[idx + feature_steps:idx + feature_steps + target_steps,1] #added .iloc[..:..,1] which grabs only the 2 column values\n",
    "                 for idx in range(n_obs)])\n",
    "    return X,y\n",
    "\n",
    "X,y = ts_split(new_data, feature_steps=5, target_steps=1)\n",
    "\n",
    "\n",
    "\n"
   ]
  },
  {
   "cell_type": "code",
   "execution_count": null,
   "metadata": {},
   "outputs": [],
   "source": []
  },
  {
   "cell_type": "code",
   "execution_count": 9,
   "metadata": {},
   "outputs": [],
   "source": [
    "# n = np.array(new_data[1:6])\n",
    "# print(n.ravel('F')[0:5])\n",
    "# print(n)"
   ]
  },
  {
   "cell_type": "code",
   "execution_count": 10,
   "metadata": {},
   "outputs": [],
   "source": [
    "# print(X[0:,:,1]) #this grabs just the middle column of the of the first row of the data, confusing but data has 3 dimensions\n",
    "# print(X[0])\n",
    "# # X[[0]].shape"
   ]
  },
  {
   "cell_type": "code",
   "execution_count": 11,
   "metadata": {},
   "outputs": [],
   "source": [
    "# new_data[\"log_volume\"].head(7) #checked for each variable and it looks like each time series column was successfully brought into X"
   ]
  },
  {
   "cell_type": "code",
   "execution_count": 12,
   "metadata": {},
   "outputs": [
    {
     "name": "stdout",
     "output_type": "stream",
     "text": [
      "First two rows of X matrix (15 features per row):\n",
      "[[-4.46100000e-03  7.81300000e-03  3.84500000e-03 -3.46200000e-03\n",
      "   5.68000000e-04  3.25730000e-02  3.46202000e-01  5.25306000e-01\n",
      "   2.10182000e-01  4.41870000e-02 -1.31274026e+01 -1.17493047e+01\n",
      "  -1.16656090e+01 -1.16267724e+01 -1.17281302e+01]\n",
      " [ 7.81300000e-03  3.84500000e-03 -3.46200000e-03  5.68000000e-04\n",
      "  -1.08240000e-02  3.46202000e-01  5.25306000e-01  2.10182000e-01\n",
      "   4.41870000e-02  1.33246000e-01 -1.17493047e+01 -1.16656090e+01\n",
      "  -1.16267724e+01 -1.17281302e+01 -1.08725263e+01]]\n",
      "\n",
      "First two rows of y vector:\n",
      "[[ 0.133246]\n",
      " [-0.011528]]\n"
     ]
    }
   ],
   "source": [
    "y[1] #it works!!\n",
    "# new_data.iloc[0+5:0+5+1,1]\n",
    "\n",
    "print(\"First two rows of X matrix (15 features per row):\")\n",
    "print(X[0:2])\n",
    "print(\"\\nFirst two rows of y vector:\")\n",
    "print(y[0:2])"
   ]
  },
  {
   "cell_type": "markdown",
   "metadata": {},
   "source": [
    "## (b)  [4 marks]\n",
    "\n",
    "Consider fitting a random forest to predict the 1-step ahead value of `log_volume`. The random forest must include the argument `random_state=42`, and it is useful to also include `n_jobs=-1` (you can use `n_job=-1` throughout this homework wherever it is avaliable). Use 3-fold time series CV, with the test set split 50% into a validation set and 50% into the actual test set, to tune the hyperparameters `n_estimators` taking the values  100, 500, 750, and the cost-complexity pruning parameter $\\alpha$ taking the values $10^{-k}$, $k=0,1,\\dots,9$. The performance measure is RMSE. Report the best hyperparameters."
   ]
  },
  {
   "cell_type": "markdown",
   "metadata": {},
   "source": [
    "**[Add your solution here]**"
   ]
  },
  {
   "cell_type": "code",
   "execution_count": 13,
   "metadata": {},
   "outputs": [],
   "source": [
    "from sklearn.ensemble import RandomForestRegressor\n",
    "from sklearn.model_selection import TimeSeriesSplit\n",
    "from sklearn.metrics import mean_squared_error\n",
    "\n",
    "tscv = TimeSeriesSplit(n_splits=3)\n",
    "series_len = new_data.size #is necessary for the plotting.\n",
    "\n",
    "#Hyperparameter combinations\n",
    "n_estimators_list = [100,500,750]\n",
    "ccp_alpha_list = [10**-0,10**-1,10**-2,10**-3,10**-4,10**-5,10**-6,10**-7,10**-8,10**-9] #cost-complexity pruning parameter alpha\n",
    "\n",
    "#code variation based on code in lecture 4 pg 99\n",
    "#we have to write our own code in order to do cross-validation and hyperparameter tuning on time series data\n",
    "def time_series_valid_test(X,y, n_split, valid_or_test,optimal_par=None):\n",
    "    tscv = TimeSeriesSplit(n_splits=n_split)\n",
    "    rf_rmse = []\n",
    "    i = 0\n",
    "    for train_index, test_index in tscv.split(X):\n",
    "        i += 1\n",
    "        #break the test into 50% validation set and 50% test set\n",
    "        break_test_ind = int(test_index[0] + 0.5*(test_index[-1]-test_index[0]))\n",
    "        valid_index = np.array(list(range(test_index[0],break_test_ind)))\n",
    "        test_index = np.array(list(range(break_test_ind, test_index[-1])))\n",
    "    \n",
    "        #Split\n",
    "        X_train, X_valid, X_test = X[train_index], X[valid_index], X[test_index]\n",
    "        y_train, y_valid, y_test = y[train_index], y[valid_index], y[test_index]\n",
    "    \n",
    "        #tuning\n",
    "        if valid_or_test == \"valid\":\n",
    "            for ccp_alpha in ccp_alpha_list:\n",
    "                for n_estimators in n_estimators_list:\n",
    "                    model_rf = RandomForestRegressor(random_state=42, \n",
    "                                                     ccp_alpha = ccp_alpha,n_estimators=n_estimators,n_jobs=-1)\n",
    "                    model_rf.fit(X_train, y_train.ravel())#why do i need the .ravel() here?\n",
    "                    y_val_rf = model_rf.predict(X_valid)\n",
    "                    rf_rmse.append(np.sqrt(mean_squared_error(y_valid, y_val_rf)))\n",
    "                \n",
    "        # evaluate on test set\n",
    "        if valid_or_test == \"test\":\n",
    "            model_rf = RandomForestRegressor(random_state = 42, \n",
    "                                             ccp_alpha = 10**-5 ,n_estimators = 500,n_jobs=-1)#manually put in best hyperparameters\n",
    "            model_rf.fit(X_train, y_train.ravel())\n",
    "            y_test_rf = model_rf.predict(X_test)\n",
    "            rf_rmse.append(np.sqrt(mean_squared_error(y_test, y_test_rf)))\n",
    "        \n",
    "            #plot the prediction for the last CV fold\n",
    "            if i == n_split:\n",
    "                plt.plot(range(series_len-test_index.size,series_len),\n",
    "                        y_test_rf, label=\"1-step ahead prediction\") #change this to one step ahead\n",
    "                plt.plot(range(series_len-test_index.size, series_len),\n",
    "                        y_test, label=\"True value\")\n",
    "                plt.legend(loc=\"upper left\")\n",
    "                \n",
    "    #average RMSE over CV folds\n",
    "    if valid_or_test == \"valid\":\n",
    "        rf_rmse = np.mean(np.array(rf_rmse).reshape(\n",
    "            n_split, len(ccp_alpha_list)*len(n_estimators_list)), axis=0) #will this axis=0 be a problem?\n",
    "        return rf_rmse\n",
    "    if valid_or_test == \"test\":\n",
    "        rf_rmse = np.mean(rf_rmse)\n",
    "        return rf_rmse, y_test_rf\n",
    "            \n"
   ]
  },
  {
   "cell_type": "code",
   "execution_count": 14,
   "metadata": {},
   "outputs": [],
   "source": [
    "rf_rmse = time_series_valid_test(X, y, 3, \"valid\") #30 parameter combinations, 3 CVs, take the average across the 3 CVs' parameter combos and out pos 30 babies"
   ]
  },
  {
   "cell_type": "code",
   "execution_count": 15,
   "metadata": {},
   "outputs": [
    {
     "name": "stdout",
     "output_type": "stream",
     "text": [
      "The best hyperparameters are n_estimators=500 and ccp_alpha=10^-5, with an average RMSE of (accross the 3 CV's):\n",
      "0.16042702494617542\n"
     ]
    }
   ],
   "source": [
    "#let's determine the best hyperparameters\n",
    "# print(np.argmin(rf_rmse))\n",
    "# print(rf_rmse.reshape(10,3))\n",
    "\n",
    "\n",
    "print(\"The best hyperparameters are n_estimators=500 and ccp_alpha=10^-5, with an average RMSE of (accross the 3 CV's):\")\n",
    "best_rmse = rf_rmse[16]\n",
    "print(best_rmse)"
   ]
  },
  {
   "cell_type": "code",
   "execution_count": 16,
   "metadata": {},
   "outputs": [],
   "source": [
    "# new_data.shape"
   ]
  },
  {
   "cell_type": "markdown",
   "metadata": {},
   "source": [
    "## (c)  [2 marks]\n",
    "\n",
    "Using the same time series split as in (b), compute the RMSE of the best fitting model on the test set, and include a plot of the true values and predicted values on the test set of the last fold (the fold closest to the current time) of the CV."
   ]
  },
  {
   "cell_type": "markdown",
   "metadata": {},
   "source": [
    "**[Add your solution here]**"
   ]
  },
  {
   "cell_type": "code",
   "execution_count": 17,
   "metadata": {},
   "outputs": [
    {
     "data": {
      "image/png": "[encoded data removed]",
      "text/plain": [
       "<Figure size 432x288 with 1 Axes>"
      ]
     },
     "metadata": {
      "needs_background": "light"
     },
     "output_type": "display_data"
    }
   ],
   "source": [
    "rf_rmse_test, y_test_rf_pred = time_series_valid_test(X, y, 3, \"test\")"
   ]
  },
  {
   "cell_type": "code",
   "execution_count": 18,
   "metadata": {},
   "outputs": [
    {
     "name": "stdout",
     "output_type": "stream",
     "text": [
      "The RMSE Value of the best fitting model is:\n",
      "0.18697418303225452\n"
     ]
    }
   ],
   "source": [
    "print(\"The RMSE Value of the best fitting model is:\")\n",
    "print(rf_rmse_test)"
   ]
  },
  {
   "cell_type": "code",
   "execution_count": null,
   "metadata": {},
   "outputs": [],
   "source": []
  },
  {
   "cell_type": "markdown",
   "metadata": {},
   "source": [
    "## (d) [2 marks]\n",
    "\n",
    "It is often useful to check that your model is not worse than a very simple method of prediction. Compute the RMSE of a model that simply predicts the 1-step ahead value of `log_volume` $c_{t+1}$ as the current value $c_t$, and compare this to the best fitting random forest model."
   ]
  },
  {
   "cell_type": "markdown",
   "metadata": {},
   "source": [
    "**[Add your solution here]**"
   ]
  },
  {
   "cell_type": "code",
   "execution_count": 19,
   "metadata": {},
   "outputs": [],
   "source": [
    "def time_series_test_only(X,y, n_split, valid_or_test,optimal_par=None):\n",
    "    tscv = TimeSeriesSplit(n_splits=n_split)\n",
    "    rmse = []\n",
    "    i = 0\n",
    "    for train_index, test_index in tscv.split(X):\n",
    "        i += 1\n",
    "        #break the test into 50% validation set and 50% test set\n",
    "        break_test_ind = int(test_index[0] + 0.5*(test_index[-1]-test_index[0]))\n",
    "        valid_index = np.array(list(range(test_index[0],break_test_ind)))\n",
    "        test_index = np.array(list(range(break_test_ind, test_index[-1])))\n",
    "    \n",
    "        #Split\n",
    "        X_train, X_valid, X_test = X[train_index], X[valid_index], X[test_index]\n",
    "        y_train, y_valid, y_test = y[train_index], y[valid_index], y[test_index]\n",
    "    \n",
    "        #tuning, HEre WE ARE ONLY WOrRIED ABOUt the tESt Set not thE VALIDAtION Set\n",
    "#         if valid_or_test == \"valid\":\n",
    "#             for ccp_alpha in ccp_alpha_list:\n",
    "#                 for n_estimators in n_estimators_list:\n",
    "#                     model_rf = RandomForestRegressor(random_state=42, \n",
    "#                                                      ccp_alpha = ccp_alpha,n_estimators=n_estimators,n_jobs=-1)\n",
    "#                     model_rf.fit(X_train, y_train.ravel())#why do i need the .ravel() here?\n",
    "#                     y_val_rf = model_rf.predict(X_valid)\n",
    "#                     rf_rmse.append(np.sqrt(mean_squared_error(y_valid, y_val_rf)))\n",
    "                \n",
    "        # evaluate on test set\n",
    "        if valid_or_test == \"test\":\n",
    "#             model_rf = RandomForestRegressor(random_state = 42, \n",
    "#                                              ccp_alpha = 10**-5 ,n_estimators = 500,n_jobs=-1)#manually put in best hyperparameters\n",
    "#             model_rf.fit(X_train, y_train.ravel())\n",
    "            y_test_pred = X_test #X_test here is exclusively the lagged value\n",
    "            rmse.append(np.sqrt(mean_squared_error(y_test, y_test_pred)))\n",
    "        \n",
    "#             #plot the prediction for the last CV fold\n",
    "#             if i == n_split:\n",
    "#                 plt.plot(range(series_len-test_index.size,series_len),\n",
    "#                         y_test_rf, label=\"1-step ahead prediction\") #change this to one step ahead\n",
    "#                 plt.plot(range(series_len-test_index.size, series_len),\n",
    "#                         y_test, label=\"True value\")\n",
    "#                 plt.legend(loc=\"upper left\")\n",
    "                \n",
    "    #average RMSE over CV folds\n",
    "#     if valid_or_test == \"valid\":\n",
    "#         rf_rmse = np.mean(np.array(rf_rmse).reshape(\n",
    "#             n_split, len(ccp_alpha_list)*len(n_estimators_list)), axis=0) #will this axis=0 be a problem?\n",
    "#         return rf_rmse\n",
    "    if valid_or_test == \"test\":\n",
    "        rmse = np.mean(rmse) #takes the average over the three folds\n",
    "        return rmse, y_test_pred"
   ]
  },
  {
   "cell_type": "code",
   "execution_count": 22,
   "metadata": {},
   "outputs": [],
   "source": [
    "# #talked about on pg 505 of the book and borrowed some code from pg 88 of the lecture 4 notes\n",
    "\n",
    "# split_ind = int(X.shape[0]*0.8)\n",
    "\n",
    "# X_train_full, y_train_full = X[:split_ind], y[:split_ind]\n",
    "# X_test, y_test = X[split_ind:], y[split_ind:]\n",
    "\n",
    "# y_pred = X_train_full[:,5]\n",
    "previous_lag = X[:,9]\n",
    "\n",
    "\n"
   ]
  },
  {
   "cell_type": "code",
   "execution_count": 23,
   "metadata": {},
   "outputs": [],
   "source": [
    "from sklearn.metrics import mean_squared_error\n",
    "dumb_rmse, dumb_pred = time_series_test_only(previous_lag, y, 3, \"test\")"
   ]
  },
  {
   "cell_type": "code",
   "execution_count": 24,
   "metadata": {},
   "outputs": [
    {
     "name": "stdout",
     "output_type": "stream",
     "text": [
      "Here is the resulting RMSE of naive forecasting:\n",
      "0.21692013508591304\n"
     ]
    }
   ],
   "source": [
    "print(\"Here is the resulting RMSE of naive forecasting:\")\n",
    "print(dumb_rmse)"
   ]
  },
  {
   "cell_type": "markdown",
   "metadata": {},
   "source": [
    "## (e) [2 marks]\n",
    "\n",
    "Compute the feature importances of the best fitting model. Which feature is the most important and what is its feature importance value?"
   ]
  },
  {
   "cell_type": "code",
   "execution_count": 25,
   "metadata": {},
   "outputs": [
    {
     "data": {
      "text/plain": [
       "RandomForestRegressor(ccp_alpha=1e-05, n_estimators=500, n_jobs=-1,\n",
       "                      random_state=42)"
      ]
     },
     "execution_count": 25,
     "metadata": {},
     "output_type": "execute_result"
    }
   ],
   "source": [
    "best_model_rf = RandomForestRegressor(random_state = 42,ccp_alpha = 10**-5 ,n_estimators = 500,n_jobs=-1)#manually put in best hyperparameters\n",
    "\n",
    "best_model_rf.fit(X, y.ravel())\n"
   ]
  },
  {
   "cell_type": "code",
   "execution_count": 26,
   "metadata": {},
   "outputs": [
    {
     "name": "stdout",
     "output_type": "stream",
     "text": [
      "The most important feature is the log_volatility value c_t (right before c_t+1). The feature importance is:\n",
      "0.5283695245558075\n",
      "All the weights are:\n",
      "[0.03375206 0.02975017 0.03719086 0.03905093 0.06408042 0.05909269\n",
      " 0.06268711 0.04354723 0.03707131 0.52836952 0.01552671 0.0122866\n",
      " 0.01101817 0.01258909 0.01398713]\n"
     ]
    }
   ],
   "source": [
    "# print(np.argmax(best_model_rf.feature_importances_))\n",
    "# print(best_model_rf.feature_importances_)\n",
    "print(\"The most important feature is the log_volatility value c_t (right before c_t+1). The feature importance is:\")\n",
    "print(best_model_rf.feature_importances_[9])\n",
    "\n",
    "print(\"All the weights are:\")\n",
    "print(best_model_rf.feature_importances_)"
   ]
  },
  {
   "cell_type": "markdown",
   "metadata": {},
   "source": [
    "**[Add your solution here]**"
   ]
  },
  {
   "cell_type": "markdown",
   "metadata": {},
   "source": [
    "# 2. SVM classification and regression [11 marks]\n",
    "\n",
    "## (a) [2 marks]\n",
    "\n",
    "In this question, a SVM is used for classification for the MNIST dataset. The following code loads the MNIST dataset, creates the test set, and to reduce training time, takes a random sample of 2000 points from the full training set to use as your actual training set stored in `X` and `y`. Do not shuffle the data and do not use a standard scaler.\n",
    "\n",
    "Hint: Reading the solution to Question 9 in the Chapter 5 [Jupyter notebook](https://github.com/ageron/handson-ml2/blob/master/05_support_vector_machines.ipynb) on the textbook website may help with this question."
   ]
  },
  {
   "cell_type": "code",
   "execution_count": 94,
   "metadata": {},
   "outputs": [],
   "source": [
    "import numpy as np\n",
    "import matplotlib as mlp\n",
    "import matplotlib.pyplot as plt\n",
    "import pandas as pd\n",
    "\n",
    "from sklearn.datasets import fetch_openml\n",
    "mnist = fetch_openml('mnist_784', version=1, as_frame=False, cache=True)\n",
    "mnist.target = mnist.target.astype(np.int8)\n",
    "X_train = mnist[\"data\"][:60000]\n",
    "X_test  = mnist[\"data\"][60000:]\n",
    "y_train = mnist[\"target\"][:60000]\n",
    "y_test  = mnist[\"target\"][60000:]"
   ]
  },
  {
   "cell_type": "code",
   "execution_count": 95,
   "metadata": {},
   "outputs": [],
   "source": [
    "from sklearn.model_selection import StratifiedShuffleSplit\n",
    "\n",
    "N = 2000\n",
    "split_obj = StratifiedShuffleSplit(n_splits=1,\n",
    "                               test_size=N/60000, random_state=42)\n",
    "for other_idx, subsample_idx in split_obj.split(X_train, y_train):\n",
    "    X = X_train[subsample_idx]\n",
    "    y = y_train[subsample_idx]"
   ]
  },
  {
   "cell_type": "markdown",
   "metadata": {},
   "source": [
    "**Task:** Consider fitting the linear SVM classifier (`LinearSVC`) with `max_iter=50000`. For this model, optimize the hyperparameter $C$ using 3-fold CV over the values $10^{-k}$, $k=0,1,\\dots,9$, where the performance measure is accuracy. What is the best $C$ and what is the accuracy in this case?"
   ]
  },
  {
   "cell_type": "code",
   "execution_count": 96,
   "metadata": {},
   "outputs": [
    {
     "data": {
      "text/plain": [
       "SVC(max_iter=50000)"
      ]
     },
     "execution_count": 96,
     "metadata": {},
     "output_type": "execute_result"
    }
   ],
   "source": [
    "from sklearn.svm import SVC\n",
    "\n",
    "linear_SVC = SVC(max_iter=50000)\n",
    "linear_SVC.fit(X,y)"
   ]
  },
  {
   "cell_type": "code",
   "execution_count": 97,
   "metadata": {},
   "outputs": [
    {
     "data": {
      "text/plain": [
       "GridSearchCV(cv=3, estimator=SVC(max_iter=50000), n_jobs=-1,\n",
       "             param_grid={'C': [1, 0.1, 0.01, 0.001, 0.0001, 1e-05, 1e-06, 1e-07,\n",
       "                               1e-08, 1e-09]},\n",
       "             scoring='accuracy')"
      ]
     },
     "execution_count": 97,
     "metadata": {},
     "output_type": "execute_result"
    }
   ],
   "source": [
    "#here i used randomized search cross-validation\n",
    "from sklearn.model_selection import RandomizedSearchCV #code based off of code provided in Q9 of chapter 5\n",
    "from scipy.stats import reciprocal, uniform\n",
    "from sklearn.model_selection import GridSearchCV\n",
    "\n",
    "param_distributions = {\"C\": [10**-0,10**-1,10**-2,10**-3,10**-4,10**-5,10**-6,10**-7,10**-8,10**-9]}\n",
    "grid_search_cv = GridSearchCV(linear_SVC, param_distributions, cv=3, n_jobs=-1, scoring=\"accuracy\")\n",
    "grid_search_cv.fit(X,y)"
   ]
  },
  {
   "cell_type": "code",
   "execution_count": 98,
   "metadata": {},
   "outputs": [
    {
     "name": "stdout",
     "output_type": "stream",
     "text": [
      "The best C hyperparameter is:\n",
      "SVC(C=1, max_iter=50000)\n",
      "\n",
      "With an accuracy score of:\n",
      "0.9855\n"
     ]
    }
   ],
   "source": [
    "from sklearn.metrics import accuracy_score\n",
    "y_pred = grid_search_cv.best_estimator_.predict(X)\n",
    "\n",
    "\n",
    "print(\"The best C hyperparameter is:\")\n",
    "print(grid_search_cv.best_estimator_)\n",
    "\n",
    "print(\"\\nWith an accuracy score of:\")\n",
    "print(accuracy_score(y, y_pred))\n"
   ]
  },
  {
   "cell_type": "markdown",
   "metadata": {},
   "source": [
    "**[Add your solution here]**"
   ]
  },
  {
   "cell_type": "markdown",
   "metadata": {},
   "source": [
    "## (b) [2 marks]\n",
    "\n",
    "**Task:** Now consider fitting a SVM with a Gaussian RBF kernel and `max_iter=50000`. For this model, optimize the hyperparameters $C$ over the distrbution `uniform(1,10)` and $\\gamma$ over the distribution `reciprocal(0.001, 0.1)` with 10 random samples. Again, use 3-fold CV and the performance measure is accuracy. What are the best hyperparameters and what is the accuracy in this case?"
   ]
  },
  {
   "cell_type": "code",
   "execution_count": 99,
   "metadata": {},
   "outputs": [],
   "source": [
    "from sklearn.pipeline import Pipeline\n",
    "import scipy.stats as sc\n",
    "from scipy.stats import reciprocal\n",
    "from sklearn.model_selection import cross_val_score\n",
    "\n",
    "hyperparams = []\n",
    "avg_score = []\n",
    "for idx in range(10): #fitting 3 folds for each of 10 random samples! So there are 10 pairs of parameters\n",
    "    #draws from these distributions\n",
    "    gamma = sc.reciprocal.rvs(0.001,0.1)\n",
    "    C = uniform.rvs(1,10)\n",
    "    hyperparams.append([gamma, C])\n",
    "    \n",
    "\n",
    "    kernel_SVC = Pipeline([\n",
    "        (\"svc\", SVC(kernel = 'rbf', max_iter=50000, gamma=gamma, C=C))\n",
    "    ])\n",
    "\n",
    "    scores = cross_val_score(kernel_SVC, X, y, cv=3, scoring=\"accuracy\", n_jobs=-1)\n",
    "    avg_score.append(np.mean(scores))\n",
    "\n",
    "\n",
    "#     param_distributions = {\"gamma\": reciprocal(0.001,0.1), \"C\": uniform(1,10)}\n",
    "#     rnd_search_cv = RandomizedSearchCV(kernel_SVC, param_distributions, n_iter=10, verbose=2, cv=3, n_jobs=-1)\n",
    "#     rnd_search_cv.fit(X,y)"
   ]
  },
  {
   "cell_type": "code",
   "execution_count": 100,
   "metadata": {},
   "outputs": [
    {
     "name": "stdout",
     "output_type": "stream",
     "text": [
      "[0.11250005627816723, 0.11250005627816723, 0.11250005627816723, 0.11250005627816723, 0.11250005627816723, 0.11250005627816723, 0.11250005627816723, 0.11250005627816723, 0.11250005627816723, 0.11250005627816723]\n",
      "The best hyperparameter pair is [gamma,C]:\n",
      "[0.001893373197198508, 2.4924422529573533]\n",
      "with an average accuracy of:\n",
      "0.11250005627816723\n"
     ]
    }
   ],
   "source": [
    "# gamma1 = sc.reciprocal.rvs(0.001,0.1) #this works!\n",
    "# print(gamma1)\n",
    "\n",
    "# C = uniform.rvs(1,10)\n",
    "# print(C)\n",
    "\n",
    "best_pair = hyperparams[0]\n",
    "# print(len(hyperparams[0:])) #ignore the first\n",
    "print(avg_score)\n",
    "print(\"The best hyperparameter pair is [gamma,C]:\")\n",
    "print(best_pair)\n",
    "print(\"with an average accuracy of:\")\n",
    "print(avg_score[0])"
   ]
  },
  {
   "cell_type": "code",
   "execution_count": 101,
   "metadata": {},
   "outputs": [],
   "source": [
    "\n",
    "# # for idx, param in enumerate\n",
    "# # kernel_SVC = Pipeline([\n",
    "# #     (\"svc\", SVC(max_iter=50000))\n",
    "# # ])\n",
    "\n",
    "# g = reciprocal(0.001,0.1)\n",
    "# print(g)"
   ]
  },
  {
   "cell_type": "code",
   "execution_count": 102,
   "metadata": {},
   "outputs": [
    {
     "data": {
      "text/plain": [
       "dict"
      ]
     },
     "execution_count": 102,
     "metadata": {},
     "output_type": "execute_result"
    }
   ],
   "source": [
    "type(param_distributions)"
   ]
  },
  {
   "cell_type": "markdown",
   "metadata": {},
   "source": [
    "**[Add your solution here]**"
   ]
  },
  {
   "cell_type": "markdown",
   "metadata": {},
   "source": [
    "## (c) [2 mark]\n",
    "\n",
    "**Task:** Choose the best model in (a) and (b). Then for this model, evaluate the accuracy on the test set, which is stored in `X_test` and `y_test`."
   ]
  },
  {
   "cell_type": "markdown",
   "metadata": {},
   "source": [
    "**[Add your solution here]**"
   ]
  },
  {
   "cell_type": "code",
   "execution_count": 103,
   "metadata": {},
   "outputs": [],
   "source": [
    "#best model in (a)\n",
    "y_preda = grid_search_cv.best_estimator_.predict(X_test)\n",
    "\n"
   ]
  },
  {
   "cell_type": "code",
   "execution_count": 104,
   "metadata": {},
   "outputs": [
    {
     "name": "stdout",
     "output_type": "stream",
     "text": [
      "The best model in (a) has the following accuracy score on the test set:\n",
      "0.94\n"
     ]
    }
   ],
   "source": [
    "print(\"The best model in (a) has the following accuracy score on the test set:\")\n",
    "print(accuracy_score(y_preda, y_test))\n"
   ]
  },
  {
   "cell_type": "code",
   "execution_count": 105,
   "metadata": {},
   "outputs": [],
   "source": [
    "#best model in (b)\n",
    "\n",
    "gamma = best_pair[0] \n",
    "C = best_pair[1\n",
    "             ]\n",
    "kernel_SVC = Pipeline([\n",
    "    (\"svc\", SVC(kernel = 'rbf', max_iter=50000, gamma=gamma, C=C))\n",
    "])\n",
    "\n",
    "kernel_SVC.fit(X,y)\n",
    "y_predb = kernel_SVC.predict(X_test)\n",
    "\n"
   ]
  },
  {
   "cell_type": "code",
   "execution_count": 106,
   "metadata": {},
   "outputs": [
    {
     "name": "stdout",
     "output_type": "stream",
     "text": [
      "The accuracy score of the best model in (b) on the test set is:\n",
      "0.1135\n"
     ]
    }
   ],
   "source": [
    "\n",
    "print(\"The accuracy score of the best model in (b) on the test set is:\")\n",
    "print(accuracy_score(y_predb, y_test))"
   ]
  },
  {
   "cell_type": "markdown",
   "metadata": {},
   "source": [
    "## (d) [3 marks]\n",
    "\n",
    "Consider the California housing data from Homework 1 using the same training and test set there. The data is obtained using the code below, which comes from Homework 1, and the training set is stored in `X` and `y`. Do not shuffle the data.\n",
    "\n",
    "Hint: Reading the solution to Question 10 in the Chapter 5 [Jupyter notebook](https://github.com/ageron/handson-ml2/blob/master/05_support_vector_machines.ipynb) on the textbook website may help with this question."
   ]
  },
  {
   "cell_type": "code",
   "execution_count": 107,
   "metadata": {},
   "outputs": [],
   "source": [
    "from sklearn.pipeline import Pipeline\n",
    "from sklearn.impute import SimpleImputer\n",
    "from sklearn.compose import ColumnTransformer\n",
    "from sklearn.preprocessing import StandardScaler, OneHotEncoder\n",
    "\n",
    "import os\n",
    "import tarfile\n",
    "from six.moves import urllib\n",
    "# import numpy as np\n",
    "# import pandas as pd\n",
    "# from sklearn.model_selection import StratifiedShuffleSplit\n",
    "\n",
    "HOUSING_PATH = os.path.join(\"datasets\", \"housing\")\n",
    "\n",
    "def fetch_housing_data(housing_url, housing_path=HOUSING_PATH):\n",
    "    if not os.path.isdir(housing_path):\n",
    "        os.makedirs(housing_path)\n",
    "    tgz_path = os.path.join(housing_path, \"housing.tgz\")\n",
    "    urllib.request.urlretrieve(housing_url, tgz_path)\n",
    "    housing_tgz = tarfile.open(tgz_path)\n",
    "    housing_tgz.extractall(path=housing_path)\n",
    "    housing_tgz.close()\n",
    "\n",
    "def load_housing_data(housing_path=HOUSING_PATH):\n",
    "    csv_path = os.path.join(housing_path, \"housing.csv\")\n",
    "    return pd.read_csv(csv_path)\n",
    "\n",
    "HOUSING_URL = (\"https://raw.githubusercontent.com/ageron/\"+\n",
    "               \"handson-ml2/master/datasets/housing/housing.tgz\")\n",
    "fetch_housing_data(HOUSING_URL)\n",
    "data = load_housing_data()\n",
    "\n",
    "data[\"income_cat\"] = np.ceil(data[\"median_income\"] / 1.5)\n",
    "data[\"income_cat\"].where(data[\"income_cat\"] < 5, 5.0, inplace=True)\n",
    "split = StratifiedShuffleSplit(n_splits=1, test_size=0.2, random_state=42)\n",
    "for train_index, test_index in split.split(data, data[\"income_cat\"]):\n",
    "    strat_train_set = data.loc[train_index]\n",
    "    strat_test_set = data.loc[test_index]\n",
    "for set_ in (strat_train_set, strat_test_set):\n",
    "    set_.drop(\"income_cat\", axis=1, inplace=True)\n",
    "X_raw = strat_train_set.drop(\"median_house_value\", axis=1)\n",
    "y = strat_train_set[\"median_house_value\"].copy()\n",
    "\n",
    "num_pipeline = Pipeline([\n",
    "        ('imputer', SimpleImputer(strategy=\"median\")),\n",
    "        ('std_scaler', StandardScaler()),\n",
    "    ])\n",
    "num_features = X_raw.drop(\"ocean_proximity\", axis=1)\n",
    "num_attribs = list(num_features)\n",
    "cat_attribs = [\"ocean_proximity\"]\n",
    "full_pipeline = ColumnTransformer([\n",
    "        (\"num\", num_pipeline, num_attribs),\n",
    "        (\"cat\", OneHotEncoder(), cat_attribs),\n",
    "    ])\n",
    "\n",
    "X = full_pipeline.fit_transform(X_raw)\n",
    "X_test_raw = strat_test_set.drop(\"median_house_value\", axis=1)\n",
    "y_test = strat_test_set[\"median_house_value\"].copy()\n",
    "X_test = full_pipeline.transform(X_test_raw)"
   ]
  },
  {
   "cell_type": "markdown",
   "metadata": {},
   "source": [
    "**Task:** Consider SVM regression with a Gaussian RBF kernel and a sigmoid kernel with `max_iter=50000`. For both models, use randomized search to choose good hyperparameter values for `C` and `gamma`, and set the arguement `random_state=42`. For both models, optimize the hyperparameters $C$ over the distrbution `uniform(1,10)` and $\\gamma$ over the distribution `reciprocal(0.001, 0.1)` with 10 random samples. Again, use 3-fold CV and the performance measure is MSE. What are the best hyperparameters and what is the MSE in this case?"
   ]
  },
  {
   "cell_type": "code",
   "execution_count": 108,
   "metadata": {},
   "outputs": [
    {
     "name": "stdout",
     "output_type": "stream",
     "text": [
      "Fitting 3 folds for each of 10 candidates, totalling 30 fits\n"
     ]
    },
    {
     "data": {
      "text/plain": [
       "RandomizedSearchCV(cv=3, estimator=SVR(max_iter=50000), n_jobs=-1,\n",
       "                   param_distributions={'C': <scipy.stats._distn_infrastructure.rv_frozen object at 0x00000257D167C790>,\n",
       "                                        'gamma': <scipy.stats._distn_infrastructure.rv_frozen object at 0x00000257D1809DC0>},\n",
       "                   random_state=42, scoring='neg_mean_squared_error',\n",
       "                   verbose=2)"
      ]
     },
     "execution_count": 108,
     "metadata": {},
     "output_type": "execute_result"
    }
   ],
   "source": [
    "from sklearn.svm import SVR # code based off of code in Q10 of chapter 5 jupyter notebook\n",
    "from sklearn.model_selection import RandomizedSearchCV\n",
    "from scipy.stats import reciprocal, uniform\n",
    "\n",
    "param_distributions = {\"gamma\": reciprocal(0.001, 0.1), \"C\": uniform(1, 10)}\n",
    "rnd_search_cv = RandomizedSearchCV(SVR(kernel='rbf', max_iter=50000), param_distributions, n_iter=10, verbose=2, cv=3, random_state=42, scoring=\"neg_mean_squared_error\", n_jobs=-1)\n",
    "rnd_search_cv.fit(X, y)"
   ]
  },
  {
   "cell_type": "code",
   "execution_count": 109,
   "metadata": {},
   "outputs": [
    {
     "name": "stdout",
     "output_type": "stream",
     "text": [
      "The best hyperparameters are the following:\n",
      "SVR(C=4.745401188473625, gamma=0.07969454818643928, max_iter=50000)\n",
      "The MSE Score is:\n",
      "-13870533538.430756\n"
     ]
    }
   ],
   "source": [
    "print(\"The best hyperparameters are the following:\")\n",
    "print(rnd_search_cv.best_estimator_)\n",
    "# rnd_search_cv.cv_results_\n",
    "\n",
    "print(\"The MSE Score is:\")\n",
    "print(rnd_search_cv.best_score_)\n",
    "# print(mean_squared_error(ypred,y))"
   ]
  },
  {
   "cell_type": "code",
   "execution_count": 110,
   "metadata": {},
   "outputs": [
    {
     "name": "stdout",
     "output_type": "stream",
     "text": [
      "Fitting 3 folds for each of 10 candidates, totalling 30 fits\n"
     ]
    },
    {
     "data": {
      "text/plain": [
       "RandomizedSearchCV(cv=3, estimator=SVR(kernel='sigmoid', max_iter=50000),\n",
       "                   n_jobs=-1,\n",
       "                   param_distributions={'C': <scipy.stats._distn_infrastructure.rv_frozen object at 0x00000257D16FD880>,\n",
       "                                        'gamma': <scipy.stats._distn_infrastructure.rv_frozen object at 0x00000257D1806A00>},\n",
       "                   random_state=42, return_train_score=True,\n",
       "                   scoring='neg_mean_squared_error', verbose=2)"
      ]
     },
     "execution_count": 110,
     "metadata": {},
     "output_type": "execute_result"
    }
   ],
   "source": [
    "from sklearn.svm import SVR # code based off of code in Q10 of chapter 5 jupyter notebook\n",
    "from sklearn.model_selection import RandomizedSearchCV\n",
    "from scipy.stats import reciprocal, uniform\n",
    "\n",
    "param_distributions = {\"gamma\": reciprocal(0.001, 0.1), \"C\": uniform(1, 10)}\n",
    "rnd_search_cv2 = RandomizedSearchCV(SVR(kernel='sigmoid', max_iter=50000), param_distributions, n_iter=10, verbose=2, cv=3, random_state=42, scoring=\"neg_mean_squared_error\", n_jobs=-1, return_train_score=True)\n",
    "rnd_search_cv2.fit(X, y)"
   ]
  },
  {
   "cell_type": "code",
   "execution_count": 111,
   "metadata": {},
   "outputs": [
    {
     "name": "stdout",
     "output_type": "stream",
     "text": [
      "The best hyperparameters are the following:\n",
      "SVR(C=4.745401188473625, gamma=0.07969454818643928, kernel='sigmoid',\n",
      "    max_iter=50000)\n",
      "The MSE Score is:\n",
      "-13740348031.432245\n"
     ]
    }
   ],
   "source": [
    "print(\"The best hyperparameters are the following:\")\n",
    "print(rnd_search_cv2.best_estimator_)\n",
    "# rnd_search_cv.cv_results_\n",
    "\n",
    "print(\"The MSE Score is:\")\n",
    "print(rnd_search_cv2.best_score_)\n",
    "# print(mean_squared_error(ypred,y))"
   ]
  },
  {
   "cell_type": "markdown",
   "metadata": {},
   "source": [
    "**[Add your solution here]**"
   ]
  },
  {
   "cell_type": "markdown",
   "metadata": {},
   "source": [
    "## (e) [2 marks]\n",
    "\n",
    "**Task:** Choose the best model in (d). Then for this model, evaluate the RMSE on the test set, which is stored in `X_test` and `y_test`."
   ]
  },
  {
   "cell_type": "markdown",
   "metadata": {},
   "source": [
    "**[Add your solution here]**"
   ]
  },
  {
   "cell_type": "code",
   "execution_count": 112,
   "metadata": {},
   "outputs": [
    {
     "name": "stdout",
     "output_type": "stream",
     "text": [
      "The best model in (d) is the SVM Regression with the sigmoid kernel\n",
      "The RMSE on the test set is:\n",
      "114752.8087714515\n"
     ]
    }
   ],
   "source": [
    "#the best model fit onto the test set\n",
    "from sklearn.metrics import mean_squared_error\n",
    "print(\"The best model in (d) is the SVM Regression with the sigmoid kernel\")\n",
    "y_prede = rnd_search_cv2.best_estimator_.predict(X_test)\n",
    "\n",
    "print(\"The RMSE on the test set is:\")\n",
    "print(np.sqrt(mean_squared_error(y_prede, y_test)))"
   ]
  },
  {
   "cell_type": "markdown",
   "metadata": {},
   "source": [
    "# 3. Voting Classifiers [8 marks]\n",
    "## (a)  [4 marks]\n",
    "\n",
    "Consider the MNIST dataset. To save computational time, split it into a smaller training set (the first 5000 observations) and a validation set (the next 1000 observations) as given by the following code."
   ]
  },
  {
   "cell_type": "code",
   "execution_count": 113,
   "metadata": {},
   "outputs": [],
   "source": [
    "from sklearn.datasets import fetch_openml #code on pg 5 of lecture 4 notes\n",
    "mnist = fetch_openml('mnist_784', version=1, as_frame=False, cache=True)\n",
    "mnist.target = mnist.target.astype(np.int8)\n",
    "\n",
    "\n",
    "N = 5000\n",
    "M = 6000\n",
    "X_train = mnist[\"data\"][:N]\n",
    "X_val  = mnist[\"data\"][N:M]\n",
    "y_train = mnist[\"target\"][:N]\n",
    "y_val = mnist[\"target\"][N:M]"
   ]
  },
  {
   "cell_type": "code",
   "execution_count": null,
   "metadata": {},
   "outputs": [],
   "source": []
  },
  {
   "cell_type": "markdown",
   "metadata": {},
   "source": [
    "Do not shuffle the data and do not use a standard scaler. Train the following classifiers on the training set:\n",
    "\n",
    "(i) a random forest classifier with arguments `n_estimators=100, n_jobs=-1, random_state=42`,\n",
    "\n",
    "(ii) an extra-trees classifier with arguments `n_estimators=100, n_jobs=-1, random_state=42`,\n",
    "\n",
    "(iii) an AdaBoost classifier `n_estimators=50, learning_rate=0.2, random_state=42`,\n",
    "\n",
    "(iv) a gradient boosting classifier using the class `GradientBoostingClassifier()` with arguments `max_depth=2, n_estimators=10, learning_rate=0.25, random_state=42`.\n",
    "\n",
    "Report the accuracy of each trained classifier on the validation set."
   ]
  },
  {
   "cell_type": "code",
   "execution_count": 114,
   "metadata": {},
   "outputs": [],
   "source": [
    "from sklearn.metrics import accuracy_score"
   ]
  },
  {
   "cell_type": "markdown",
   "metadata": {},
   "source": [
    "**[Add your solution here]**"
   ]
  },
  {
   "cell_type": "code",
   "execution_count": 115,
   "metadata": {},
   "outputs": [
    {
     "data": {
      "text/plain": [
       "RandomForestClassifier(n_jobs=-1, random_state=42)"
      ]
     },
     "execution_count": 115,
     "metadata": {},
     "output_type": "execute_result"
    }
   ],
   "source": [
    "\n",
    "\n",
    "#(i) Random Forest Classifier\n",
    "from sklearn.ensemble import RandomForestClassifier\n",
    "rfc = RandomForestClassifier(n_estimators=100, n_jobs=-1, random_state=42)\n",
    "rfc.fit(X_train, y_train)"
   ]
  },
  {
   "cell_type": "code",
   "execution_count": 116,
   "metadata": {},
   "outputs": [],
   "source": [
    "y_pred_rfc = rfc.predict(X_val)\n",
    "rmse_rfc=np.sqrt(mean_squared_error(y_pred_rfc, y_val))"
   ]
  },
  {
   "cell_type": "code",
   "execution_count": 117,
   "metadata": {},
   "outputs": [
    {
     "name": "stdout",
     "output_type": "stream",
     "text": [
      "Here is the accuracy score of the Random Forest Classifier on the Validation set:\n",
      "0.939\n"
     ]
    }
   ],
   "source": [
    "print(\"Here is the accuracy score of the Random Forest Classifier on the Validation set:\")\n",
    "print(accuracy_score(y_val, y_pred_rfc))"
   ]
  },
  {
   "cell_type": "code",
   "execution_count": 118,
   "metadata": {},
   "outputs": [
    {
     "data": {
      "text/plain": [
       "ExtraTreesClassifier(n_jobs=-1, random_state=42)"
      ]
     },
     "execution_count": 118,
     "metadata": {},
     "output_type": "execute_result"
    }
   ],
   "source": [
    "#(ii) Extra-trees classifier\n",
    "from sklearn.ensemble import ExtraTreesClassifier\n",
    "\n",
    "xtc = ExtraTreesClassifier(n_estimators = 100, n_jobs=-1, random_state=42)\n",
    "xtc.fit(X_train, y_train)"
   ]
  },
  {
   "cell_type": "code",
   "execution_count": 119,
   "metadata": {},
   "outputs": [],
   "source": [
    "y_pred_xtc = xtc.predict(X_val)\n",
    "rmse_xtc=np.sqrt(mean_squared_error(y_pred_xtc, y_val))"
   ]
  },
  {
   "cell_type": "code",
   "execution_count": 120,
   "metadata": {},
   "outputs": [
    {
     "name": "stdout",
     "output_type": "stream",
     "text": [
      "Here is the accuracy score of the Extra Trees Classifier on the Validation set:\n",
      "0.947\n"
     ]
    }
   ],
   "source": [
    "print(\"Here is the accuracy score of the Extra Trees Classifier on the Validation set:\")\n",
    "\n",
    "print(accuracy_score(y_val, y_pred_xtc))"
   ]
  },
  {
   "cell_type": "code",
   "execution_count": null,
   "metadata": {},
   "outputs": [],
   "source": []
  },
  {
   "cell_type": "code",
   "execution_count": 121,
   "metadata": {},
   "outputs": [
    {
     "data": {
      "text/plain": [
       "AdaBoostClassifier(learning_rate=0.2, random_state=42)"
      ]
     },
     "execution_count": 121,
     "metadata": {},
     "output_type": "execute_result"
    }
   ],
   "source": [
    "#(iii) AdaBoost Classifier\n",
    "from sklearn.ensemble import AdaBoostClassifier\n",
    "from sklearn.tree import DecisionTreeClassifier\n",
    "\n",
    "ada_clf = AdaBoostClassifier(n_estimators=50,learning_rate=0.2, random_state=42)\n",
    "ada_clf.fit(X_train, y_train)"
   ]
  },
  {
   "cell_type": "code",
   "execution_count": 122,
   "metadata": {},
   "outputs": [],
   "source": [
    "y_pred_ada = ada_clf.predict(X_val)\n",
    "# rmse_ada=np.sqrt(mean_squared_error(y_pred_ada, y_val))"
   ]
  },
  {
   "cell_type": "code",
   "execution_count": 123,
   "metadata": {},
   "outputs": [
    {
     "name": "stdout",
     "output_type": "stream",
     "text": [
      "Here is the accuracy score of the AdaBoost Classifier on the Validation set:\n",
      "0.736\n"
     ]
    }
   ],
   "source": [
    "print(\"Here is the accuracy score of the AdaBoost Classifier on the Validation set:\")\n",
    "\n",
    "print(accuracy_score(y_val, y_pred_ada))"
   ]
  },
  {
   "cell_type": "code",
   "execution_count": 124,
   "metadata": {},
   "outputs": [],
   "source": [
    "#(iv) Gradient Boosting Classifier\n",
    "from sklearn.ensemble import GradientBoostingClassifier #uses decision trees as the underlying estimators (like the random forest)\n",
    "\n",
    "gbf = GradientBoostingClassifier(max_depth=2, n_estimators=10, learning_rate=0.25, random_state=42)\n",
    "gbf.fit(X_train,y_train)\n",
    "\n",
    "y_pred_gbf = gbf.predict(X_val)\n",
    "rmse_gbf=np.sqrt(mean_squared_error(y_pred_gbf, y_val))"
   ]
  },
  {
   "cell_type": "code",
   "execution_count": 125,
   "metadata": {},
   "outputs": [
    {
     "name": "stdout",
     "output_type": "stream",
     "text": [
      "Here is the accuracy score of the Gradient Boosting Classifier on the Validation set:\n",
      "0.834\n"
     ]
    }
   ],
   "source": [
    "print(\"Here is the accuracy score of the Gradient Boosting Classifier on the Validation set:\")\n",
    "\n",
    "print(accuracy_score(y_val, y_pred_gbf))"
   ]
  },
  {
   "cell_type": "markdown",
   "metadata": {},
   "source": [
    "## (b)  [4 marks]\n",
    "Train a hard-voting and a soft-voting ensemble classifier based on the models in (a). Evaluate each voting classifier on the validation set. Comment on whether the performance of the ensemble model is better or worse than the individual models in (a) and why that is the case."
   ]
  },
  {
   "cell_type": "markdown",
   "metadata": {},
   "source": [
    "**[Add your solution here]**"
   ]
  },
  {
   "cell_type": "code",
   "execution_count": 126,
   "metadata": {},
   "outputs": [
    {
     "data": {
      "text/plain": [
       "VotingClassifier(estimators=[('rf',\n",
       "                              RandomForestClassifier(n_jobs=-1,\n",
       "                                                     random_state=42)),\n",
       "                             ('ex',\n",
       "                              ExtraTreesClassifier(n_jobs=-1, random_state=42)),\n",
       "                             ('ada',\n",
       "                              AdaBoostClassifier(learning_rate=0.2,\n",
       "                                                 random_state=42)),\n",
       "                             ('gb',\n",
       "                              GradientBoostingClassifier(learning_rate=0.25,\n",
       "                                                         max_depth=2,\n",
       "                                                         n_estimators=10,\n",
       "                                                         random_state=42))])"
      ]
     },
     "execution_count": 126,
     "metadata": {},
     "output_type": "execute_result"
    }
   ],
   "source": [
    "#Hard Voting Classifier\n",
    "from sklearn.ensemble import VotingClassifier\n",
    "voting_clf = VotingClassifier(estimators=[('rf', rfc),('ex', xtc),('ada',ada_clf),('gb',gbf)], voting='hard')\n",
    "voting_clf.fit(X_train, y_train)"
   ]
  },
  {
   "cell_type": "code",
   "execution_count": 127,
   "metadata": {},
   "outputs": [
    {
     "name": "stdout",
     "output_type": "stream",
     "text": [
      "Accuracy of Hard Voting Classifier (ensemble classifier) on the validation set:\n",
      "0.923\n"
     ]
    }
   ],
   "source": [
    "y_pred_hv=voting_clf.predict(X_val)\n",
    "print(\"Accuracy of Hard Voting Classifier (ensemble classifier) on the validation set:\")\n",
    "print(accuracy_score(y_val, y_pred_hv))"
   ]
  },
  {
   "cell_type": "code",
   "execution_count": 128,
   "metadata": {},
   "outputs": [
    {
     "data": {
      "text/plain": [
       "VotingClassifier(estimators=[('rf',\n",
       "                              RandomForestClassifier(n_jobs=-1,\n",
       "                                                     random_state=42)),\n",
       "                             ('ex',\n",
       "                              ExtraTreesClassifier(n_jobs=-1, random_state=42)),\n",
       "                             ('ada',\n",
       "                              AdaBoostClassifier(learning_rate=0.2,\n",
       "                                                 random_state=42)),\n",
       "                             ('gb',\n",
       "                              GradientBoostingClassifier(learning_rate=0.25,\n",
       "                                                         max_depth=2,\n",
       "                                                         n_estimators=10,\n",
       "                                                         random_state=42))],\n",
       "                 voting='soft')"
      ]
     },
     "execution_count": 128,
     "metadata": {},
     "output_type": "execute_result"
    }
   ],
   "source": [
    "#Soft Voting Classifier\n",
    "\n",
    "voting_clf = VotingClassifier(estimators=[('rf', rfc),('ex', xtc),('ada',ada_clf),('gb',gbf)], voting='soft')\n",
    "voting_clf.fit(X_train, y_train)"
   ]
  },
  {
   "cell_type": "code",
   "execution_count": 129,
   "metadata": {},
   "outputs": [
    {
     "name": "stdout",
     "output_type": "stream",
     "text": [
      "Accuracy of Soft Voting Classifier (ensemble classifier) on the validation set:\n",
      "0.926\n"
     ]
    }
   ],
   "source": [
    "y_pred_sv=voting_clf.predict(X_val)\n",
    "print(\"Accuracy of Soft Voting Classifier (ensemble classifier) on the validation set:\")\n",
    "print(accuracy_score(y_val, y_pred_sv))"
   ]
  },
  {
   "cell_type": "code",
   "execution_count": 130,
   "metadata": {},
   "outputs": [
    {
     "name": "stdout",
     "output_type": "stream",
     "text": [
      "The highest performer overall was the random forest classifier model, it outperformed all other models.\n",
      "\n",
      "Of the voting classifiers, the hard voting classifier had a higher accuracy than the soft.\n",
      "\n",
      "A reason the voting classifiers didn't outperform the underlying models is because the underlying models\n",
      "\n",
      "are not independent of one another, as they are all trained on the same day. This leads to them having\n",
      "\n",
      "the same errors as one another, leading to majority votes fort he wrong class, reducing the model's accuracy.\n"
     ]
    }
   ],
   "source": [
    "print(\"The highest performer overall was the random forest classifier model, it outperformed all other models.\")\n",
    "print(\"\\nOf the voting classifiers, the hard voting classifier had a higher accuracy than the soft.\")\n",
    "print(\"\\nA reason the voting classifiers didn't outperform the underlying models is because the underlying models\")\n",
    "print(\"\\nare not independent of one another, as they are all trained on the same day. This leads to them having\")\n",
    "print(\"\\nthe same errors as one another, leading to majority votes fort he wrong class, reducing the model's accuracy.\")"
   ]
  },
  {
   "cell_type": "markdown",
   "metadata": {},
   "source": [
    "# 4. Stacking [9 marks]\n",
    "\n",
    "We continue with the setting of Question 3. The training set, validation set and test set are the same. In Question 3, we have used predetermined rules (that is, hard-voting and soft-voting) to build the ensemble prediction. **Stacking** is an ensemble method in which you train a model (called a **blender**) to aggregate the result of each predictor into an ensemble prediction.\n",
    "\n",
    "Hint: Reading the subsection \"Stacking\" in Chapter 7 of the textbook and the solution to Question 9 in the Chapter 7 [Jupyter notebook](https://github.com/ageron/handson-ml2/blob/master/07_ensemble_learning_and_random_forests.ipynb) on the textbook website may help with this question.\n",
    "\n",
    "## (a)  [3 marks]\n",
    "\n",
    "For each of the four classifiers in Question 3(a), make 5000 clean predictions on the training set with 3-fold cross validation using `sklearn.model_selection.cross_val_predict()`. You should end up with four predictions per observation. Print at least the first 5 rows of `pred`. Next, apply one-hot encoding to `pred` since these predictions are class labels."
   ]
  },
  {
   "cell_type": "markdown",
   "metadata": {},
   "source": [
    "**[Add your solution here]**"
   ]
  },
  {
   "cell_type": "code",
   "execution_count": 131,
   "metadata": {},
   "outputs": [],
   "source": [
    "from sklearn.datasets import fetch_openml #code on pg 5 of lecture 4 notes\n",
    "mnist = fetch_openml('mnist_784', version=1, as_frame=False, cache=True)\n",
    "mnist.target = mnist.target.astype(np.int8)\n",
    "\n",
    "\n",
    "N = 5000\n",
    "M = 6000\n",
    "X_train = mnist[\"data\"][:N]\n",
    "X_val  = mnist[\"data\"][N:M]\n",
    "y_train = mnist[\"target\"][:N]\n",
    "y_val = mnist[\"target\"][N:M]"
   ]
  },
  {
   "cell_type": "code",
   "execution_count": 132,
   "metadata": {},
   "outputs": [
    {
     "name": "stdout",
     "output_type": "stream",
     "text": [
      "0\n",
      "1\n",
      "2\n",
      "3\n"
     ]
    }
   ],
   "source": [
    "from sklearn.model_selection import cross_val_predict\n",
    "estimators = voting_clf.estimators_ #these are the estimators from question 3\n",
    "\n",
    "X_train_predictions = np.empty((len(X_train), len(estimators)), dtype=np.float32) #on the training set, like the problem asked for\n",
    "\n",
    "for index, estimator in enumerate(estimators):\n",
    "    X_train_predictions[:, index] = cross_val_predict(estimator, X_train, y_train, cv=3, n_jobs=-1)\n",
    "    print(index)"
   ]
  },
  {
   "cell_type": "code",
   "execution_count": 133,
   "metadata": {},
   "outputs": [
    {
     "name": "stdout",
     "output_type": "stream",
     "text": [
      "First 5 rows of predictions\n",
      "[[5. 5. 3. 3.]\n",
      " [0. 0. 5. 0.]\n",
      " [4. 4. 4. 4.]\n",
      " [1. 1. 1. 1.]\n",
      " [9. 9. 9. 9.]]\n",
      "[[0. 0. 0. ... 0. 0. 0.]\n",
      " [1. 0. 0. ... 0. 0. 0.]\n",
      " [0. 0. 0. ... 0. 0. 0.]\n",
      " ...\n",
      " [0. 0. 1. ... 0. 0. 0.]\n",
      " [0. 1. 0. ... 0. 0. 0.]\n",
      " [0. 0. 1. ... 0. 0. 0.]]\n"
     ]
    }
   ],
   "source": [
    "from sklearn.preprocessing import OneHotEncoder\n",
    "\n",
    "print(\"First 5 rows of predictions\")\n",
    "print(X_train_predictions[0:5])\n",
    "\n",
    "enc = OneHotEncoder()\n",
    "# enc.fit(X_train_predictions)\n",
    "# print(\"The one hot encoder categories\")\n",
    "# print(enc.categories_) \n",
    "\n",
    "X_tp = enc.fit_transform(X_train_predictions) #transforms the predictions into one hot encoding predictions\n",
    "\n",
    "X_tp = X_tp.toarray()\n",
    "print(X_tp)"
   ]
  },
  {
   "cell_type": "code",
   "execution_count": 134,
   "metadata": {},
   "outputs": [
    {
     "data": {
      "text/plain": [
       "(5000, 4)"
      ]
     },
     "execution_count": 134,
     "metadata": {},
     "output_type": "execute_result"
    }
   ],
   "source": [
    "X_train.shape\n",
    "X_train_predictions.shape"
   ]
  },
  {
   "cell_type": "markdown",
   "metadata": {},
   "source": [
    "## (b) [3 marks]\n",
    "Use the predictions in (a) as features and the actual label of the observations as the target. Train a random forest classifier on the training set with the parameters `n_estimators=100, random_state=42`.  This classifier is a blender. "
   ]
  },
  {
   "cell_type": "code",
   "execution_count": 135,
   "metadata": {},
   "outputs": [
    {
     "data": {
      "text/plain": [
       "RandomForestClassifier(random_state=42)"
      ]
     },
     "execution_count": 135,
     "metadata": {},
     "output_type": "execute_result"
    }
   ],
   "source": [
    "rfc = RandomForestClassifier(n_estimators=100, random_state=42)\n",
    "rfc.fit(X_tp, y_train)"
   ]
  },
  {
   "cell_type": "markdown",
   "metadata": {},
   "source": [
    "**[Add your solution here]**"
   ]
  },
  {
   "cell_type": "markdown",
   "metadata": {},
   "source": [
    "## (c) [3 marks]\n",
    "\n",
    "Obtain the predictions of the blender on the validation set by feeding predictions on the validation set from the four classifiers in Question 3(a) into the blender trained in Question 4(b). Do not retrain the blender. These are called stacking predictions. Report the accuracy of your stacking predictions on the validation set and compare this to the results in Question 3(b)."
   ]
  },
  {
   "cell_type": "code",
   "execution_count": 136,
   "metadata": {},
   "outputs": [],
   "source": [
    "#idea is from Q9 of ch 7 jupyter notebook\n",
    "X_val_predictions = np.empty((len(X_val), len(estimators)), dtype=np.float32) #on the training set, like the problem asked for\n",
    "\n",
    "for index, estimator in enumerate(estimators):\n",
    "    X_val_predictions[:, index] = estimator.predict(X_val)\n",
    "\n",
    "enc_c = OneHotEncoder()\n",
    "enc_c.fit(X_val_predictions)\n",
    "    \n",
    "X_tval = enc_c.transform(X_val_predictions)"
   ]
  },
  {
   "cell_type": "code",
   "execution_count": 137,
   "metadata": {},
   "outputs": [
    {
     "name": "stdout",
     "output_type": "stream",
     "text": [
      "The accuracy of the stacking predictions on the validation set.\n"
     ]
    },
    {
     "data": {
      "text/plain": [
       "0.947"
      ]
     },
     "execution_count": 137,
     "metadata": {},
     "output_type": "execute_result"
    }
   ],
   "source": [
    "predy4c = rfc.predict(X_tval)\n",
    "\n",
    "print(\"The accuracy of the stacking predictions on the validation set.\")\n",
    "accuracy_score(predy4c, y_val)"
   ]
  },
  {
   "cell_type": "markdown",
   "metadata": {},
   "source": [
    "**[Add your solution here]**"
   ]
  }
 ],
 "metadata": {
  "hide_input": false,
  "kernelspec": {
   "display_name": "Python 3 (ipykernel)",
   "language": "python",
   "name": "python3"
  },
  "language_info": {
   "codemirror_mode": {
    "name": "ipython",
    "version": 3
   },
   "file_extension": ".py",
   "mimetype": "text/x-python",
   "name": "python",
   "nbconvert_exporter": "python",
   "pygments_lexer": "ipython3",
   "version": "3.9.7"
  },
  "latex_envs": {
   "LaTeX_envs_menu_present": true,
   "autoclose": false,
   "autocomplete": false,
   "bibliofile": "biblio.bib",
   "cite_by": "apalike",
   "current_citInitial": 1,
   "eqLabelWithNumbers": true,
   "eqNumInitial": 1,
   "hotkeys": {
    "equation": "Ctrl-E",
    "itemize": "Ctrl-I"
   },
   "labels_anchors": false,
   "latex_user_defs": false,
   "report_style_numbering": false,
   "user_envs_cfg": false
  },
  "toc": {
   "base_numbering": 1,
   "nav_menu": {},
   "number_sections": false,
   "sideBar": true,
   "skip_h1_title": false,
   "title_cell": "Table of Contents",
   "title_sidebar": "Contents",
   "toc_cell": false,
   "toc_position": {},
   "toc_section_display": true,
   "toc_window_display": false
  },
  "varInspector": {
   "cols": {
    "lenName": 16,
    "lenType": 16,
    "lenVar": 40
   },
   "kernels_config": {
    "python": {
     "delete_cmd_postfix": "",
     "delete_cmd_prefix": "del ",
     "library": "var_list.py",
     "varRefreshCmd": "print(var_dic_list())"
    },
    "r": {
     "delete_cmd_postfix": ") ",
     "delete_cmd_prefix": "rm(",
     "library": "var_list.r",
     "varRefreshCmd": "cat(var_dic_list()) "
    }
   },
   "types_to_exclude": [
    "module",
    "function",
    "builtin_function_or_method",
    "instance",
    "_Feature"
   ],
   "window_display": false
  }
 },
 "nbformat": 4,
 "nbformat_minor": 2
}
